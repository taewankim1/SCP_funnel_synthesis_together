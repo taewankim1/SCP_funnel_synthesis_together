{
 "cells": [
  {
   "cell_type": "code",
   "execution_count": 1,
   "id": "acquired-benefit",
   "metadata": {},
   "outputs": [],
   "source": [
    "import matplotlib.pyplot as plt\n",
    "%matplotlib inline\n",
    "%load_ext autoreload\n",
    "%autoreload 2\n",
    "import numpy as np\n",
    "import time\n",
    "import random\n",
    "def print_np(x):\n",
    "    print (\"Type is %s\" % (type(x)))\n",
    "    print (\"Shape is %s\" % (x.shape,))\n",
    "#     print (\"Values are: \\n%s\" % (x))\n",
    "import seaborn as sns\n",
    "sns.set_theme(style=\"whitegrid\")"
   ]
  },
  {
   "cell_type": "code",
   "execution_count": 2,
   "id": "musical-momentum",
   "metadata": {},
   "outputs": [],
   "source": [
    "import os\n",
    "import sys\n",
    "sys.path.append('./')\n",
    "sys.path.append('./model')\n",
    "sys.path.append('./cost')\n",
    "sys.path.append('./constraints')\n",
    "sys.path.append('./utils')"
   ]
  },
  {
   "cell_type": "code",
   "execution_count": 3,
   "id": "pleasant-heath",
   "metadata": {},
   "outputs": [],
   "source": [
    "import UnicycleModel\n",
    "import UnicycleCost\n",
    "import UnicycleConstraints\n",
    "from scipy.integrate import solve_ivp\n",
    "from PTR import PTR\n",
    "from LMI import Q_update\n",
    "from Scaling import TrajectoryScaling\n",
    "from matplotlib.patches import Ellipse\n",
    "from utils_plot import plot_traj,plot_traj_set,plot_state_input\n",
    "from Scaling import TrajectoryScaling\n",
    "from utils_alg import get_neighbor_vec\n",
    "import cvxpy as cvx\n",
    "from utils_alg import get_sample_eta_w\n",
    "from MSampling import Mstep"
   ]
  },
  {
   "cell_type": "code",
   "execution_count": 4,
   "id": "solar-arnold",
   "metadata": {},
   "outputs": [],
   "source": [
    "ix = 3\n",
    "iu = 2\n",
    "iw = 2\n",
    "iq = 2\n",
    "ip = 2\n",
    "N = 30\n",
    "tf = 3\n",
    "delT = tf/N\n",
    "max_iter_SCP = 50"
   ]
  },
  {
   "cell_type": "code",
   "execution_count": 5,
   "id": "4feebea8",
   "metadata": {},
   "outputs": [],
   "source": [
    "# structued nonlinearity\n",
    "C_o = np.array([[0,0,1],[0,0,0]])\n",
    "D_o = np.array([[0,0],[1,0]])\n",
    "E_o = np.array([[1,0],[0,1],[0,0]])\n",
    "F = np.array([[0.1,0],[0,0.1],[0,0]])\n",
    "G_o = np.zeros((iq,iw))\n",
    "# C = np.tile(C_o,(ip,1)) \n",
    "# D = np.tile(D_o,(ip,1))\n",
    "# G = np.tile(G_o,(ip,1)) \n",
    "# E = np.repeat(E_o,iq,axis=1)\n",
    "C = C_o\n",
    "D = D_o\n",
    "G = G_o\n",
    "E = E_o"
   ]
  },
  {
   "cell_type": "markdown",
   "id": "c8898848",
   "metadata": {},
   "source": [
    "## obstacle setting"
   ]
  },
  {
   "cell_type": "code",
   "execution_count": 6,
   "id": "e5c9cc02",
   "metadata": {},
   "outputs": [],
   "source": [
    "def get_H_obs(rx,ry) :\n",
    "    return np.diag([1/rx,1/ry])\n",
    "# obstacle\n",
    "c_list = []\n",
    "H_list = []\n",
    "c1 = [1,2]\n",
    "H1 = get_H_obs(0.75,1.5)\n",
    "c_list.append(c1)\n",
    "H_list.append(H1)\n",
    "c2 = [4,3]\n",
    "H2 = get_H_obs(0.75,1.5)\n",
    "c_list.append(c2)\n",
    "H_list.append(H2)\n",
    "# c1 = [1,0.1]\n",
    "# H1 = get_H_obs(0.4,0.4)\n",
    "# c_list.append(c1)\n",
    "# H_list.append(H1)"
   ]
  },
  {
   "cell_type": "code",
   "execution_count": 7,
   "id": "15e541eb",
   "metadata": {},
   "outputs": [],
   "source": [
    "# plt.figure(figsize=(5,8))\n",
    "# ax=plt.gca()\n",
    "# for ce,H in zip(c_list,H_list) :\n",
    "#     rx = 1/H[0,0]\n",
    "#     ry = 1/H[1,1]\n",
    "#     circle1 = Ellipse((ce[0],ce[1]),rx*2,ry*2,color='tab:red',alpha=0.5,fill=True)\n",
    "#     ax.add_patch(circle1)\n",
    "# plt.axis([-0.5, 5.5, -0.5, 5.5])\n",
    "# plt.gca().set_aspect('equal', adjustable='box')\n",
    "# plt.grid(True)"
   ]
  },
  {
   "cell_type": "code",
   "execution_count": 8,
   "id": "waiting-probability",
   "metadata": {},
   "outputs": [],
   "source": [
    "xi = np.zeros(3)\n",
    "xi[0] = 0.0\n",
    "xi[1] = 0.0 \n",
    "xi[2] = 0\n",
    "\n",
    "xf = np.zeros(3)\n",
    "xf[0] = 5.0\n",
    "xf[1] = 5.0\n",
    "xf[2] = 0\n",
    "\n",
    "myModel = UnicycleModel.unicycle('Hello',ix,iu,'numeric_central')\n",
    "myCost = UnicycleCost.unicycle('Hello',ix,iu,N)\n",
    "myConst = UnicycleConstraints.UnicycleConstraints('Hello',ix,iu)\n",
    "myConst.set_obstacle(c_list,H_list)\n",
    "\n",
    "x0 = np.zeros((N+1,ix))\n",
    "for i in range(N+1) :\n",
    "    x0[i] = (N-i)/N * xi + i/N * xf\n",
    "# u0 = np.random.rand(N,iu)\n",
    "u0 = np.zeros((N+1,iu))"
   ]
  },
  {
   "cell_type": "markdown",
   "id": "d903e7fd",
   "metadata": {},
   "source": [
    "# Initial setting"
   ]
  },
  {
   "cell_type": "markdown",
   "id": "67917b9f",
   "metadata": {},
   "source": [
    "## initial trajectory x,u"
   ]
  },
  {
   "cell_type": "code",
   "execution_count": 13,
   "id": "integral-assurance",
   "metadata": {
    "scrolled": true
   },
   "outputs": [
    {
     "name": "stdout",
     "output_type": "stream",
     "text": [
      "iteration   total_cost        cost        ||vc||     ||tr||       reduction   w_tr        bounary\n",
      "1           207.681           207.681     6.01e-10    1.79e-07    792         0.100       1(1.42e-08)\n",
      "SUCCEESS: virtual control and trust region < tol\n"
     ]
    }
   ],
   "source": [
    "i1 = PTR('unicycle',N,tf,max_iter_SCP,myModel,myCost,myConst,type_discretization=\"zoh\",\n",
    "          w_c=1,w_vc=1e3,w_tr=1e-1,tol_vc=1e-6,tol_tr=1e-5,verbosity=False)\n",
    "x,u,xbar,ubar,total_num_iter,flag_boundary,l,l_vc,l_tr = i1.run(x0,u0,xi,xf)\n",
    "# plot_traj(xbar,ubar,c_list,H_list,xf)\n",
    "# plot_state_input(xbar,ubar,xi,xf,N,delT)"
   ]
  },
  {
   "cell_type": "markdown",
   "id": "7679fd87",
   "metadata": {},
   "source": [
    "## Initial trajectory Q, K"
   ]
  },
  {
   "cell_type": "code",
   "execution_count": 14,
   "id": "68c77934",
   "metadata": {},
   "outputs": [],
   "source": [
    "# get LQR K\n",
    "# A,B,s,z,vc = i1.get_model()\n",
    "# C = s+z\n",
    "A,B = myModel.diff_numeric_central(xbar,ubar)\n",
    "from utils_alg import get_K\n",
    "S = 2*np.eye(ix)\n",
    "R = np.eye(iu)\n",
    "# R[1,1] *= 0.1\n",
    "S_final = 2*np.eye(ix)\n",
    "Kbar = get_K(A[:N],B[:N],S,R,N,ix,iu)\n",
    "Qbar = np.tile(np.diag([0.5**2,0.5**2,np.deg2rad(20)**2]),(N+1,1,1))"
   ]
  },
  {
   "cell_type": "code",
   "execution_count": 15,
   "id": "26c2adef",
   "metadata": {},
   "outputs": [
    {
     "data": {
      "image/png": "[encoded data removed]",
      "text/plain": [
       "<Figure size 504x504 with 1 Axes>"
      ]
     },
     "metadata": {},
     "output_type": "display_data"
    }
   ],
   "source": [
    "plot_traj_set(xbar,ubar,c_list,H_list,Qbar,xf=None,idx_plot=0)"
   ]
  },
  {
   "cell_type": "markdown",
   "id": "804cbcdb",
   "metadata": {},
   "source": [
    "# Start"
   ]
  },
  {
   "cell_type": "code",
   "execution_count": 22,
   "id": "fe86320f",
   "metadata": {
    "scrolled": false
   },
   "outputs": [
    {
     "name": "stdout",
     "output_type": "stream",
     "text": [
      "iteration   total_cost        cost        ||vc||     ||tr||       reduction   w_tr        bounary\n",
      "17          295.958           295.958     1.73e-10    5.42e-06    0.0545      10.000      1(6.25e-08)\n",
      "SUCCEESS: virtual control and trust region < tol\n",
      "mean of gamma [1. 1.]\n",
      "max of gamma [1. 1.]\n",
      "None\n",
      "None\n",
      "None\n"
     ]
    },
    {
     "ename": "ValueError",
     "evalue": "matmul: Input operand 1 does not have enough dimensions (has 0, gufunc core with signature (n?,k),(k,m?)->(n?,m?) requires 1)",
     "output_type": "error",
     "traceback": [
      "\u001b[0;31m---------------------------------------------------------------------------\u001b[0m",
      "\u001b[0;31mValueError\u001b[0m                                Traceback (most recent call last)",
      "\u001b[0;32m/var/folders/tm/mswbc_xs6x7grdqhyvcpdhw80000gn/T/ipykernel_43513/3720147544.py\u001b[0m in \u001b[0;36m<module>\u001b[0;34m\u001b[0m\n\u001b[1;32m     31\u001b[0m     \u001b[0mmyQ\u001b[0m\u001b[0;34m.\u001b[0m\u001b[0minitialize\u001b[0m\u001b[0;34m(\u001b[0m\u001b[0mx\u001b[0m\u001b[0;34m,\u001b[0m\u001b[0mu\u001b[0m\u001b[0;34m,\u001b[0m\u001b[0mA\u001b[0m\u001b[0;34m,\u001b[0m\u001b[0mB\u001b[0m\u001b[0;34m,\u001b[0m\u001b[0mC\u001b[0m\u001b[0;34m,\u001b[0m\u001b[0mD\u001b[0m\u001b[0;34m,\u001b[0m\u001b[0mE\u001b[0m\u001b[0;34m,\u001b[0m\u001b[0mF\u001b[0m\u001b[0;34m,\u001b[0m\u001b[0mG\u001b[0m\u001b[0;34m)\u001b[0m\u001b[0;34m\u001b[0m\u001b[0;34m\u001b[0m\u001b[0m\n\u001b[1;32m     32\u001b[0m \u001b[0;34m\u001b[0m\u001b[0m\n\u001b[0;32m---> 33\u001b[0;31m     \u001b[0mQ\u001b[0m\u001b[0;34m,\u001b[0m\u001b[0mK\u001b[0m\u001b[0;34m,\u001b[0m\u001b[0mY\u001b[0m\u001b[0;34m,\u001b[0m\u001b[0mstatus\u001b[0m \u001b[0;34m=\u001b[0m \u001b[0mmyQ\u001b[0m\u001b[0;34m.\u001b[0m\u001b[0msolve_type_1\u001b[0m\u001b[0;34m(\u001b[0m\u001b[0mgamma\u001b[0m\u001b[0;34m,\u001b[0m\u001b[0mxi_neighbor\u001b[0m\u001b[0;34m,\u001b[0m\u001b[0mQf\u001b[0m\u001b[0;34m,\u001b[0m\u001b[0mQbar\u001b[0m\u001b[0;34m)\u001b[0m\u001b[0;34m\u001b[0m\u001b[0;34m\u001b[0m\u001b[0m\n\u001b[0m\u001b[1;32m     34\u001b[0m     \u001b[0mprint\u001b[0m\u001b[0;34m(\u001b[0m\u001b[0;34m\"LMI status:\"\u001b[0m \u001b[0;34m+\u001b[0m \u001b[0mstatus\u001b[0m\u001b[0;34m)\u001b[0m\u001b[0;34m\u001b[0m\u001b[0;34m\u001b[0m\u001b[0m\n\u001b[1;32m     35\u001b[0m \u001b[0;34m\u001b[0m\u001b[0m\n",
      "\u001b[0;32m~/Documents/Code/Personal/CDC2022/LMI.py\u001b[0m in \u001b[0;36msolve_type_1\u001b[0;34m(self, gamma, xi_neighbor, Qf, Qbar)\u001b[0m\n\u001b[1;32m    139\u001b[0m         \u001b[0mYnew\u001b[0m \u001b[0;34m=\u001b[0m \u001b[0;34m[\u001b[0m\u001b[0;34m]\u001b[0m\u001b[0;34m\u001b[0m\u001b[0;34m\u001b[0m\u001b[0m\n\u001b[1;32m    140\u001b[0m         \u001b[0;32mfor\u001b[0m \u001b[0mi\u001b[0m \u001b[0;32min\u001b[0m \u001b[0mrange\u001b[0m\u001b[0;34m(\u001b[0m\u001b[0mN\u001b[0m\u001b[0;34m+\u001b[0m\u001b[0;36m1\u001b[0m\u001b[0;34m)\u001b[0m \u001b[0;34m:\u001b[0m\u001b[0;34m\u001b[0m\u001b[0;34m\u001b[0m\u001b[0m\n\u001b[0;32m--> 141\u001b[0;31m             \u001b[0mQnew\u001b[0m\u001b[0;34m.\u001b[0m\u001b[0mappend\u001b[0m\u001b[0;34m(\u001b[0m\u001b[0mself\u001b[0m\u001b[0;34m.\u001b[0m\u001b[0mSx\u001b[0m\u001b[0;34m@\u001b[0m\u001b[0mself\u001b[0m\u001b[0;34m.\u001b[0m\u001b[0mQ_list\u001b[0m\u001b[0;34m[\u001b[0m\u001b[0mi\u001b[0m\u001b[0;34m]\u001b[0m\u001b[0;34m.\u001b[0m\u001b[0mvalue\u001b[0m\u001b[0;34m@\u001b[0m\u001b[0mself\u001b[0m\u001b[0;34m.\u001b[0m\u001b[0mSx\u001b[0m\u001b[0;34m)\u001b[0m\u001b[0;34m\u001b[0m\u001b[0;34m\u001b[0m\u001b[0m\n\u001b[0m\u001b[1;32m    142\u001b[0m             \u001b[0;32mif\u001b[0m \u001b[0mi\u001b[0m \u001b[0;34m<\u001b[0m \u001b[0mN\u001b[0m \u001b[0;34m:\u001b[0m\u001b[0;34m\u001b[0m\u001b[0;34m\u001b[0m\u001b[0m\n\u001b[1;32m    143\u001b[0m                 \u001b[0mYnew\u001b[0m\u001b[0;34m.\u001b[0m\u001b[0mappend\u001b[0m\u001b[0;34m(\u001b[0m\u001b[0mself\u001b[0m\u001b[0;34m.\u001b[0m\u001b[0mSu\u001b[0m\u001b[0;34m@\u001b[0m\u001b[0mself\u001b[0m\u001b[0;34m.\u001b[0m\u001b[0mY_list\u001b[0m\u001b[0;34m[\u001b[0m\u001b[0mi\u001b[0m\u001b[0;34m]\u001b[0m\u001b[0;34m.\u001b[0m\u001b[0mvalue\u001b[0m\u001b[0;34m@\u001b[0m\u001b[0mself\u001b[0m\u001b[0;34m.\u001b[0m\u001b[0mSx\u001b[0m\u001b[0;34m)\u001b[0m\u001b[0;34m\u001b[0m\u001b[0;34m\u001b[0m\u001b[0m\n",
      "\u001b[0;31mValueError\u001b[0m: matmul: Input operand 1 does not have enough dimensions (has 0, gufunc core with signature (n?,k),(k,m?)->(n?,m?) requires 1)"
     ]
    }
   ],
   "source": [
    "history = []\n",
    "max_iter = 20\n",
    "for _ in range(max_iter) :\n",
    "    traj = {}\n",
    "    # step 1\n",
    "    x0 = xbar\n",
    "    u0 = ubar\n",
    "\n",
    "    xi_margin = np.array([0.1,0.1,np.deg2rad(5)])*2\n",
    "    Qf = np.diag([0.5**2,0.5**2,np.deg2rad(20)**2])*1.5\n",
    "    vec_neighbor = []\n",
    "    xi_neighbor = np.array(get_neighbor_vec(-1,0,ix,None,vec_neighbor)) * np.array(xi_margin) + xi\n",
    "\n",
    "    # SCP\n",
    "    i1 = PTR('unicycle',N,tf,max_iter_SCP,myModel,myCost,myConst,type_discretization=\"zoh\",\n",
    "              w_c=1,w_vc=1e3,w_tr=1e1,tol_vc=1e-6,tol_tr=1e-5,verbosity=False)\n",
    "    _,_,x,u,total_num_iter,flag_boundary,l,l_vc,l_tr = i1.run(x0,u0,xi,xf,Qbar,Kbar)#,xi_neighbor,xf_margin)\n",
    "    # plot_traj_set(x,u,c_list,H_list,Qbar,xi=xi,xf=xf,xi_margin=xi_margin,Qf=Qf,idx_plot=0)\n",
    "\n",
    "    # step 2\n",
    "    A,B = myModel.diff_numeric_central(xbar,ubar)\n",
    "    myM = Mstep(ix,iu,iq,ip,iw,N)\n",
    "    myM.initialize(xbar,ubar,Qbar,Kbar,A,B,C,D,E,F,G,myModel)\n",
    "#     gamma = myM.update_parallel()\n",
    "    gamma = np.ones((N,ip*iq))*np.array([0.5,0.5])\n",
    "    print(\"mean of gamma\",np.mean(gamma,0))\n",
    "    print(\"max of gamma\",np.max(gamma,0))\n",
    "    # step 3\n",
    "    myQ = Q_update(ix,iu,iq,ip,iw,N,delT,myCost.S,myCost.R)\n",
    "    myQ.initialize(x,u,A,B,C,D,E,F,G)\n",
    "\n",
    "    Q,K,Y,status = myQ.solve_type_1(gamma,xi_neighbor,Qf,Qbar)\n",
    "    print(\"LMI status:\" + status)\n",
    "\n",
    "    # plot the trajectory\n",
    "    plot_traj_set(x,u,c_list,H_list,Q,xi=xi,xf=xf,xi_margin=xi_margin,Qf=Qf,idx_plot=0)\n",
    "    plt.show()\n",
    "    # show the difference\n",
    "    x_diff = np.mean(np.linalg.norm(x-xbar,2,1))\n",
    "    u_diff = np.mean(np.linalg.norm(u[:N]-ubar[:N],2,1))\n",
    "    Q_diff = np.mean([np.linalg.norm(Q[i]-Qbar[i],'fro') for i in range(N+1)])\n",
    "    K_diff = np.mean([np.linalg.norm(K[i]-Kbar[i],'fro') for i in range(N)])\n",
    "    print(\"x {:8.6f} u {:8.6f} Q {:8.6f} K {:8.6f}\".format(x_diff,u_diff,Q_diff,K_diff))\n",
    "\n",
    "    # save trajectory\n",
    "    traj['x'] = x\n",
    "    traj['u'] = u\n",
    "    traj['Q'] = Q\n",
    "    traj['K'] = K\n",
    "    traj['gamma'] = gamma\n",
    "    history.append(traj)\n",
    "    \n",
    "    # update trajectory\n",
    "    Qbar = Q\n",
    "    Kbar = K\n",
    "    xbar = x\n",
    "    ubar = u"
   ]
  },
  {
   "cell_type": "code",
   "execution_count": null,
   "id": "993c3f78",
   "metadata": {},
   "outputs": [],
   "source": [
    "# show the difference\n",
    "x_distance = [np.mean(np.linalg.norm(history[i]['x']-history[-1]['x'],2,1)) / \n",
    "      np.mean(np.linalg.norm(history[-1]['x'],2,1))\n",
    "      for i in range(max_iter-1)]\n",
    "u_distance = [np.mean(np.linalg.norm(history[i]['u']-history[-1]['u'],2,1)) / \n",
    "      np.mean(np.linalg.norm(history[-1]['u'],2,1))\n",
    "      for i in range(max_iter-1)]\n",
    "# K_diff = np.mean([np.linalg.norm(K[i]-Kbar[i],'fro') for i in range(N)])"
   ]
  },
  {
   "cell_type": "code",
   "execution_count": null,
   "id": "a802b641",
   "metadata": {},
   "outputs": [],
   "source": [
    "Q_last_norm = np.mean([np.linalg.norm(history[-1]['Q'][i],'fro') for i in range(N)])\n",
    "Q_distance = np.array([np.mean([np.linalg.norm(history[j]['Q'][i]-history[-1]['Q'][i],'fro') for i in range(N)]) \n",
    "          for j in range(max_iter-1)])/Q_last_norm\n",
    "K_last_norm = np.mean([np.linalg.norm(history[-1]['K'][i],'fro') for i in range(N)])\n",
    "K_distance = np.array([np.mean([np.linalg.norm(history[j]['K'][i]-history[-1]['K'][i],'fro') for i in range(N)]) \n",
    "          for j in range(max_iter-1)])/K_last_norm\n"
   ]
  },
  {
   "cell_type": "code",
   "execution_count": null,
   "id": "ce336332",
   "metadata": {
    "scrolled": false
   },
   "outputs": [],
   "source": [
    "fS = 15\n",
    "plt.figure(figsize=(15,10))\n",
    "plt.subplot(221)\n",
    "plt.plot([i+1 for i in range(max_iter-1)],x_distance,'o-')\n",
    "plt.xlabel('iteration number',fontsize=fS)\n",
    "plt.ylabel(r'$\\frac{||x^i - x^*||_2}{||x^*||_2}$',fontsize=fS)\n",
    "plt.yscale('log')\n",
    "plt.subplot(222)\n",
    "plt.plot([i+1 for i in range(max_iter-1)],u_distance,'o-')\n",
    "plt.xlabel('iteration number',fontsize=fS)\n",
    "plt.ylabel(r'$\\frac{||u^i - u^*||_2}{||u^*||_2}$',fontsize=fS)\n",
    "plt.yscale('log')\n",
    "plt.subplot(223)\n",
    "plt.plot([i+1 for i in range(max_iter-1)],Q_distance,'o-')\n",
    "plt.xlabel('iteration number',fontsize=fS)\n",
    "plt.ylabel(r'$\\frac{||Q^i - Q^*||_F}{||Q^*||_F}$',fontsize=fS)\n",
    "plt.yscale('log')\n",
    "plt.subplot(224)\n",
    "plt.plot([i+1 for i in range(max_iter-1)],K_distance,'o-')\n",
    "plt.xlabel('iteration number',fontsize=fS)\n",
    "plt.ylabel(r'$\\frac{||K^i - K^*||_F}{||K^*||_F}$',fontsize=fS)\n",
    "plt.yscale('log')"
   ]
  },
  {
   "cell_type": "code",
   "execution_count": null,
   "id": "1510ab9d",
   "metadata": {},
   "outputs": [],
   "source": []
  },
  {
   "cell_type": "markdown",
   "id": "c1bcc449",
   "metadata": {},
   "source": [
    "# is it really.. invariant?"
   ]
  },
  {
   "cell_type": "code",
   "execution_count": null,
   "id": "e18e195a",
   "metadata": {},
   "outputs": [],
   "source": [
    "xbar = history[-1]['x']\n",
    "ubar = history[-1]['u']\n",
    "Qbar = history[-1]['Q']\n",
    "Kbar = history[-1]['K']"
   ]
  },
  {
   "cell_type": "code",
   "execution_count": null,
   "id": "97fe9ced",
   "metadata": {},
   "outputs": [],
   "source": [
    "from utils_alg import forward_full_with_K,get_sample_trajectory\n",
    "import scipy\n",
    "\n",
    "x0_sample = []\n",
    "# x0_sample.append(xbar[0])\n",
    "num_sample = 3\n",
    "idx = 0\n",
    "for i in range(num_sample) :\n",
    "    z = np.random.randn(ix)\n",
    "    z = z / np.linalg.norm(z)\n",
    "    x_s = xbar[idx] + scipy.linalg.sqrtm(Qbar[idx])@z\n",
    "    x0_sample.append(x_s)\n",
    "    \n",
    "\n"
   ]
  },
  {
   "cell_type": "code",
   "execution_count": null,
   "id": "29e71a4e",
   "metadata": {},
   "outputs": [],
   "source": [
    "# xsam,usam = forward_full_with_K(x0_sample[98],x,u,K,myModel,N,ix,iu,delT)\n",
    "xsam,usam = get_sample_trajectory(xi,x0_sample,xbar,ubar,Kbar,myModel,N,ix,iu,iw,delT,flag_noise=True)"
   ]
  },
  {
   "cell_type": "code",
   "execution_count": null,
   "id": "7bcf401c",
   "metadata": {},
   "outputs": [],
   "source": [
    "plot_traj_set(xbar,ubar,c_list,H_list,Qbar,xi=xi,xf=xf,xi_margin=xi_margin,Qf=Qf,idx_plot=0)\n",
    "for xsam_e in xsam :\n",
    "# xsam_e = xsam[1]\n",
    "    plt.plot(xsam_e[:,0], xsam_e[:,1],'o-',markersize=4.0, linewidth=1.0,color='tab:purple')"
   ]
  },
  {
   "cell_type": "code",
   "execution_count": null,
   "id": "bd98c5c1",
   "metadata": {},
   "outputs": [],
   "source": [
    "xsam_e = xsam[0]\n",
    "usam_e = usam[0]\n",
    "plot_state_input(xsam_e,usam_e,None,None,N,delT)"
   ]
  },
  {
   "cell_type": "code",
   "execution_count": null,
   "id": "0e1b1697",
   "metadata": {},
   "outputs": [],
   "source": []
  }
 ],
 "metadata": {
  "kernelspec": {
   "display_name": "Python 3 (ipykernel)",
   "language": "python",
   "name": "python3"
  },
  "language_info": {
   "codemirror_mode": {
    "name": "ipython",
    "version": 3
   },
   "file_extension": ".py",
   "mimetype": "text/x-python",
   "name": "python",
   "nbconvert_exporter": "python",
   "pygments_lexer": "ipython3",
   "version": "3.8.12"
  }
 },
 "nbformat": 4,
 "nbformat_minor": 5
}
