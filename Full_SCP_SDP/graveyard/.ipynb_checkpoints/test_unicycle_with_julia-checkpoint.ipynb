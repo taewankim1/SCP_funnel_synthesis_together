{
 "cells": [
  {
   "cell_type": "code",
   "execution_count": 1,
   "id": "acquired-benefit",
   "metadata": {},
   "outputs": [],
   "source": [
    "import matplotlib.pyplot as plt\n",
    "%matplotlib inline\n",
    "%load_ext autoreload\n",
    "%autoreload 2\n",
    "import numpy as np\n",
    "import time\n",
    "import random\n",
    "def print_np(x):\n",
    "    print (\"Type is %s\" % (type(x)))\n",
    "    print (\"Shape is %s\" % (x.shape,))\n",
    "#     print (\"Values are: \\n%s\" % (x))\n",
    "import seaborn as sns\n",
    "sns.set_theme(style=\"whitegrid\")"
   ]
  },
  {
   "cell_type": "code",
   "execution_count": 2,
   "id": "musical-momentum",
   "metadata": {},
   "outputs": [],
   "source": [
    "import os\n",
    "import sys\n",
    "sys.path.append('./')\n",
    "sys.path.append('./model')\n",
    "sys.path.append('./cost')\n",
    "sys.path.append('./constraints')\n",
    "sys.path.append('./utils')"
   ]
  },
  {
   "cell_type": "code",
   "execution_count": 3,
   "id": "pleasant-heath",
   "metadata": {},
   "outputs": [],
   "source": [
    "import UnicycleModel\n",
    "import UnicycleCost\n",
    "import UnicycleConstraints\n",
    "from scipy.integrate import solve_ivp\n",
    "from PTR import PTR\n",
    "from Scaling import TrajectoryScaling\n",
    "from matplotlib.patches import Ellipse"
   ]
  },
  {
   "cell_type": "code",
   "execution_count": 4,
   "id": "solar-arnold",
   "metadata": {},
   "outputs": [],
   "source": [
    "ix = 3\n",
    "iu = 2\n",
    "N = 10\n",
    "tf = 3\n",
    "delT = tf/N\n",
    "max_iter = 50"
   ]
  },
  {
   "cell_type": "markdown",
   "id": "16944733",
   "metadata": {},
   "source": [
    "## obstacle setting"
   ]
  },
  {
   "cell_type": "code",
   "execution_count": 5,
   "id": "44ce18dc",
   "metadata": {},
   "outputs": [],
   "source": [
    "def get_H_obs(rx,ry) :\n",
    "    return np.diag([1/rx,1/ry])\n",
    "# obstacle\n",
    "c_list = []\n",
    "H_list = []\n",
    "# c1 = [1,2]\n",
    "# H1 = get_H_obs(0.75,1.5)\n",
    "# c_list.append(c1)\n",
    "# H_list.append(H1)\n",
    "# c2 = [4,3]\n",
    "# H2 = get_H_obs(0.75,1.5)\n",
    "# c_list.append(c2)\n",
    "# H_list.append(H2)\n",
    "c1 = [1,0.1]\n",
    "H1 = get_H_obs(0.4,0.4)\n",
    "c_list.append(c1)\n",
    "H_list.append(H1)"
   ]
  },
  {
   "cell_type": "code",
   "execution_count": 6,
   "id": "d5db9dfe",
   "metadata": {},
   "outputs": [
    {
     "data": {
      "image/png": "[encoded data removed]",
      "text/plain": [
       "<Figure size 360x576 with 1 Axes>"
      ]
     },
     "metadata": {},
     "output_type": "display_data"
    }
   ],
   "source": [
    "plt.figure(figsize=(5,8))\n",
    "ax=plt.gca()\n",
    "for ce,H in zip(c_list,H_list) :\n",
    "    rx = 1/H[0,0]\n",
    "    ry = 1/H[1,1]\n",
    "    circle1 = Ellipse((ce[0],ce[1]),rx*2,ry*2,color='tab:red',alpha=0.5,fill=True)\n",
    "    ax.add_patch(circle1)\n",
    "plt.axis([-0.5, 5.5, -0.5, 5.5])\n",
    "plt.gca().set_aspect('equal', adjustable='box')\n",
    "plt.grid(True)"
   ]
  },
  {
   "cell_type": "code",
   "execution_count": 8,
   "id": "waiting-probability",
   "metadata": {},
   "outputs": [],
   "source": [
    "xi = np.zeros(3)\n",
    "xi[0] = 0.0\n",
    "xi[1] = 0.0 \n",
    "xi[2] = 0\n",
    "\n",
    "xf = np.zeros(3)\n",
    "xf[0] = 2.0\n",
    "xf[1] = 0.0\n",
    "xf[2] = 0\n",
    "\n",
    "myModel = UnicycleModel.unicycle('Hello',ix,iu,'numeric_central')\n",
    "myCost = UnicycleCost.unicycle('Hello',ix,iu,N)\n",
    "myConst = UnicycleConstraints.UnicycleConstraints('Hello',ix,iu)\n",
    "myConst.set_obstacle(c_list,H_list)\n",
    "\n",
    "x0 = np.zeros((N+1,ix))\n",
    "for i in range(N+1) :\n",
    "    x0[i] = (N-i)/N * xi + i/N * xf\n",
    "# u0 = np.random.rand(N,iu)\n",
    "u0 = np.zeros((N+1,iu))"
   ]
  },
  {
   "cell_type": "markdown",
   "id": "747d15cb",
   "metadata": {},
   "source": [
    "# Initial setting"
   ]
  },
  {
   "cell_type": "markdown",
   "id": "c8e34dcd",
   "metadata": {},
   "source": [
    "## initial trajectory x,u"
   ]
  },
  {
   "cell_type": "code",
   "execution_count": 9,
   "id": "integral-assurance",
   "metadata": {},
   "outputs": [
    {
     "ename": "AttributeError",
     "evalue": "'unicycle' object has no attribute 'delT'",
     "output_type": "error",
     "traceback": [
      "\u001b[0;31m---------------------------------------------------------------------------\u001b[0m",
      "\u001b[0;31mAttributeError\u001b[0m                            Traceback (most recent call last)",
      "\u001b[0;32m/var/folders/tm/mswbc_xs6x7grdqhyvcpdhw80000gn/T/ipykernel_83091/1995975566.py\u001b[0m in \u001b[0;36m<module>\u001b[0;34m\u001b[0m\n\u001b[1;32m      1\u001b[0m i1 = PTR('unicycle',N,tf,max_iter,myModel,myCost,myConst,type_discretization=\"foh\",\n\u001b[1;32m      2\u001b[0m           w_c=1,w_vc=1e3,w_tr=1e0,tol_vc=1e-6,tol_tr=1e-3)\n\u001b[0;32m----> 3\u001b[0;31m \u001b[0mx\u001b[0m\u001b[0;34m,\u001b[0m\u001b[0mu\u001b[0m\u001b[0;34m,\u001b[0m\u001b[0mxbar\u001b[0m\u001b[0;34m,\u001b[0m\u001b[0mubar\u001b[0m\u001b[0;34m,\u001b[0m\u001b[0mtotal_num_iter\u001b[0m\u001b[0;34m,\u001b[0m\u001b[0mflag_boundary\u001b[0m\u001b[0;34m,\u001b[0m\u001b[0ml\u001b[0m\u001b[0;34m,\u001b[0m\u001b[0ml_vc\u001b[0m\u001b[0;34m,\u001b[0m\u001b[0ml_tr\u001b[0m \u001b[0;34m=\u001b[0m \u001b[0mi1\u001b[0m\u001b[0;34m.\u001b[0m\u001b[0mrun\u001b[0m\u001b[0;34m(\u001b[0m\u001b[0mx0\u001b[0m\u001b[0;34m,\u001b[0m\u001b[0mu0\u001b[0m\u001b[0;34m,\u001b[0m\u001b[0mxi\u001b[0m\u001b[0;34m,\u001b[0m\u001b[0mxf\u001b[0m\u001b[0;34m)\u001b[0m\u001b[0;34m\u001b[0m\u001b[0;34m\u001b[0m\u001b[0m\n\u001b[0m",
      "\u001b[0;32m~/Documents/Code/Personal/Funnel/PTR.py\u001b[0m in \u001b[0;36mrun\u001b[0;34m(self, x0, u0, xi, xf)\u001b[0m\n\u001b[1;32m    258\u001b[0m                                     np.expand_dims(self.tf*self.s+self.z,2))\n\u001b[1;32m    259\u001b[0m                 \u001b[0;32melif\u001b[0m \u001b[0mself\u001b[0m\u001b[0;34m.\u001b[0m\u001b[0mtype_discretization\u001b[0m \u001b[0;34m==\u001b[0m \u001b[0;34m'foh'\u001b[0m \u001b[0;34m:\u001b[0m\u001b[0;34m\u001b[0m\u001b[0;34m\u001b[0m\u001b[0m\n\u001b[0;32m--> 260\u001b[0;31m                     \u001b[0mself\u001b[0m\u001b[0;34m.\u001b[0m\u001b[0mA\u001b[0m\u001b[0;34m,\u001b[0m\u001b[0mself\u001b[0m\u001b[0;34m.\u001b[0m\u001b[0mBm\u001b[0m\u001b[0;34m,\u001b[0m\u001b[0mself\u001b[0m\u001b[0;34m.\u001b[0m\u001b[0mBp\u001b[0m\u001b[0;34m,\u001b[0m\u001b[0mself\u001b[0m\u001b[0;34m.\u001b[0m\u001b[0ms\u001b[0m\u001b[0;34m,\u001b[0m\u001b[0mself\u001b[0m\u001b[0;34m.\u001b[0m\u001b[0mz\u001b[0m\u001b[0;34m,\u001b[0m\u001b[0mself\u001b[0m\u001b[0;34m.\u001b[0m\u001b[0mx_prop_n\u001b[0m \u001b[0;34m=\u001b[0m \u001b[0mself\u001b[0m\u001b[0;34m.\u001b[0m\u001b[0mmodel\u001b[0m\u001b[0;34m.\u001b[0m\u001b[0mdiff_discrete_foh\u001b[0m\u001b[0;34m(\u001b[0m\u001b[0mself\u001b[0m\u001b[0;34m.\u001b[0m\u001b[0mx\u001b[0m\u001b[0;34m[\u001b[0m\u001b[0;36m0\u001b[0m\u001b[0;34m:\u001b[0m\u001b[0mN\u001b[0m\u001b[0;34m,\u001b[0m\u001b[0;34m:\u001b[0m\u001b[0;34m]\u001b[0m\u001b[0;34m,\u001b[0m\u001b[0mself\u001b[0m\u001b[0;34m.\u001b[0m\u001b[0mu\u001b[0m\u001b[0;34m,\u001b[0m\u001b[0mself\u001b[0m\u001b[0;34m.\u001b[0m\u001b[0mdelT\u001b[0m\u001b[0;34m,\u001b[0m\u001b[0mself\u001b[0m\u001b[0;34m.\u001b[0m\u001b[0mtf\u001b[0m\u001b[0;34m)\u001b[0m\u001b[0;34m\u001b[0m\u001b[0;34m\u001b[0m\u001b[0m\n\u001b[0m\u001b[1;32m    261\u001b[0m                     self.x_prop = np.squeeze(self.A@np.expand_dims(self.x[0:N,:],2) +\n\u001b[1;32m    262\u001b[0m                                     \u001b[0mself\u001b[0m\u001b[0;34m.\u001b[0m\u001b[0mBm\u001b[0m\u001b[0;34m@\u001b[0m\u001b[0mnp\u001b[0m\u001b[0;34m.\u001b[0m\u001b[0mexpand_dims\u001b[0m\u001b[0;34m(\u001b[0m\u001b[0mself\u001b[0m\u001b[0;34m.\u001b[0m\u001b[0mu\u001b[0m\u001b[0;34m[\u001b[0m\u001b[0;36m0\u001b[0m\u001b[0;34m:\u001b[0m\u001b[0mN\u001b[0m\u001b[0;34m,\u001b[0m\u001b[0;34m:\u001b[0m\u001b[0;34m]\u001b[0m\u001b[0;34m,\u001b[0m\u001b[0;36m2\u001b[0m\u001b[0;34m)\u001b[0m \u001b[0;34m+\u001b[0m\u001b[0;34m\u001b[0m\u001b[0;34m\u001b[0m\u001b[0m\n",
      "\u001b[0;32m~/Documents/Code/Personal/Funnel/./model/model.py\u001b[0m in \u001b[0;36mdiff_discrete_foh\u001b[0;34m(self, x, u, delT, tf)\u001b[0m\n\u001b[1;32m    257\u001b[0m         \u001b[0mV0_repeat\u001b[0m \u001b[0;34m=\u001b[0m \u001b[0mV0\u001b[0m\u001b[0;34m.\u001b[0m\u001b[0mflatten\u001b[0m\u001b[0;34m(\u001b[0m\u001b[0morder\u001b[0m\u001b[0;34m=\u001b[0m\u001b[0;34m'F'\u001b[0m\u001b[0;34m)\u001b[0m\u001b[0;34m\u001b[0m\u001b[0;34m\u001b[0m\u001b[0m\n\u001b[1;32m    258\u001b[0m \u001b[0;34m\u001b[0m\u001b[0m\n\u001b[0;32m--> 259\u001b[0;31m         \u001b[0msol\u001b[0m \u001b[0;34m=\u001b[0m \u001b[0msolve_ivp\u001b[0m\u001b[0;34m(\u001b[0m\u001b[0mdvdt\u001b[0m\u001b[0;34m,\u001b[0m\u001b[0;34m(\u001b[0m\u001b[0;36m0\u001b[0m\u001b[0;34m,\u001b[0m\u001b[0mdelT\u001b[0m\u001b[0;34m)\u001b[0m\u001b[0;34m,\u001b[0m\u001b[0mV0_repeat\u001b[0m\u001b[0;34m,\u001b[0m\u001b[0margs\u001b[0m\u001b[0;34m=\u001b[0m\u001b[0;34m(\u001b[0m\u001b[0mu\u001b[0m\u001b[0;34m[\u001b[0m\u001b[0;36m0\u001b[0m\u001b[0;34m:\u001b[0m\u001b[0mN\u001b[0m\u001b[0;34m]\u001b[0m\u001b[0;34m,\u001b[0m\u001b[0mu\u001b[0m\u001b[0;34m[\u001b[0m\u001b[0;36m1\u001b[0m\u001b[0;34m:\u001b[0m\u001b[0;34m]\u001b[0m\u001b[0;34m,\u001b[0m\u001b[0mN\u001b[0m\u001b[0;34m)\u001b[0m\u001b[0;34m,\u001b[0m\u001b[0mrtol\u001b[0m\u001b[0;34m=\u001b[0m\u001b[0;36m1e-6\u001b[0m\u001b[0;34m,\u001b[0m\u001b[0matol\u001b[0m\u001b[0;34m=\u001b[0m\u001b[0;36m1e-10\u001b[0m\u001b[0;34m)\u001b[0m\u001b[0;34m\u001b[0m\u001b[0;34m\u001b[0m\u001b[0m\n\u001b[0m\u001b[1;32m    260\u001b[0m         \u001b[0;31m# sol = solve_ivp(dvdt,(0,delT),V0_repeat,args=(u[0:N],u[1:],N))\u001b[0m\u001b[0;34m\u001b[0m\u001b[0;34m\u001b[0m\u001b[0;34m\u001b[0m\u001b[0m\n\u001b[1;32m    261\u001b[0m         \u001b[0;31m# IPython.embed()\u001b[0m\u001b[0;34m\u001b[0m\u001b[0;34m\u001b[0m\u001b[0;34m\u001b[0m\u001b[0m\n",
      "\u001b[0;32m~/opt/anaconda3/envs/py308/lib/python3.8/site-packages/scipy/integrate/_ivp/ivp.py\u001b[0m in \u001b[0;36msolve_ivp\u001b[0;34m(fun, t_span, y0, method, t_eval, dense_output, events, vectorized, args, **options)\u001b[0m\n\u001b[1;32m    544\u001b[0m         \u001b[0mmethod\u001b[0m \u001b[0;34m=\u001b[0m \u001b[0mMETHODS\u001b[0m\u001b[0;34m[\u001b[0m\u001b[0mmethod\u001b[0m\u001b[0;34m]\u001b[0m\u001b[0;34m\u001b[0m\u001b[0;34m\u001b[0m\u001b[0m\n\u001b[1;32m    545\u001b[0m \u001b[0;34m\u001b[0m\u001b[0m\n\u001b[0;32m--> 546\u001b[0;31m     \u001b[0msolver\u001b[0m \u001b[0;34m=\u001b[0m \u001b[0mmethod\u001b[0m\u001b[0;34m(\u001b[0m\u001b[0mfun\u001b[0m\u001b[0;34m,\u001b[0m \u001b[0mt0\u001b[0m\u001b[0;34m,\u001b[0m \u001b[0my0\u001b[0m\u001b[0;34m,\u001b[0m \u001b[0mtf\u001b[0m\u001b[0;34m,\u001b[0m \u001b[0mvectorized\u001b[0m\u001b[0;34m=\u001b[0m\u001b[0mvectorized\u001b[0m\u001b[0;34m,\u001b[0m \u001b[0;34m**\u001b[0m\u001b[0moptions\u001b[0m\u001b[0;34m)\u001b[0m\u001b[0;34m\u001b[0m\u001b[0;34m\u001b[0m\u001b[0m\n\u001b[0m\u001b[1;32m    547\u001b[0m \u001b[0;34m\u001b[0m\u001b[0m\n\u001b[1;32m    548\u001b[0m     \u001b[0;32mif\u001b[0m \u001b[0mt_eval\u001b[0m \u001b[0;32mis\u001b[0m \u001b[0;32mNone\u001b[0m\u001b[0;34m:\u001b[0m\u001b[0;34m\u001b[0m\u001b[0;34m\u001b[0m\u001b[0m\n",
      "\u001b[0;32m~/opt/anaconda3/envs/py308/lib/python3.8/site-packages/scipy/integrate/_ivp/rk.py\u001b[0m in \u001b[0;36m__init__\u001b[0;34m(self, fun, t0, y0, t_bound, max_step, rtol, atol, vectorized, first_step, **extraneous)\u001b[0m\n\u001b[1;32m     92\u001b[0m         \u001b[0mself\u001b[0m\u001b[0;34m.\u001b[0m\u001b[0mmax_step\u001b[0m \u001b[0;34m=\u001b[0m \u001b[0mvalidate_max_step\u001b[0m\u001b[0;34m(\u001b[0m\u001b[0mmax_step\u001b[0m\u001b[0;34m)\u001b[0m\u001b[0;34m\u001b[0m\u001b[0;34m\u001b[0m\u001b[0m\n\u001b[1;32m     93\u001b[0m         \u001b[0mself\u001b[0m\u001b[0;34m.\u001b[0m\u001b[0mrtol\u001b[0m\u001b[0;34m,\u001b[0m \u001b[0mself\u001b[0m\u001b[0;34m.\u001b[0m\u001b[0matol\u001b[0m \u001b[0;34m=\u001b[0m \u001b[0mvalidate_tol\u001b[0m\u001b[0;34m(\u001b[0m\u001b[0mrtol\u001b[0m\u001b[0;34m,\u001b[0m \u001b[0matol\u001b[0m\u001b[0;34m,\u001b[0m \u001b[0mself\u001b[0m\u001b[0;34m.\u001b[0m\u001b[0mn\u001b[0m\u001b[0;34m)\u001b[0m\u001b[0;34m\u001b[0m\u001b[0;34m\u001b[0m\u001b[0m\n\u001b[0;32m---> 94\u001b[0;31m         \u001b[0mself\u001b[0m\u001b[0;34m.\u001b[0m\u001b[0mf\u001b[0m \u001b[0;34m=\u001b[0m \u001b[0mself\u001b[0m\u001b[0;34m.\u001b[0m\u001b[0mfun\u001b[0m\u001b[0;34m(\u001b[0m\u001b[0mself\u001b[0m\u001b[0;34m.\u001b[0m\u001b[0mt\u001b[0m\u001b[0;34m,\u001b[0m \u001b[0mself\u001b[0m\u001b[0;34m.\u001b[0m\u001b[0my\u001b[0m\u001b[0;34m)\u001b[0m\u001b[0;34m\u001b[0m\u001b[0;34m\u001b[0m\u001b[0m\n\u001b[0m\u001b[1;32m     95\u001b[0m         \u001b[0;32mif\u001b[0m \u001b[0mfirst_step\u001b[0m \u001b[0;32mis\u001b[0m \u001b[0;32mNone\u001b[0m\u001b[0;34m:\u001b[0m\u001b[0;34m\u001b[0m\u001b[0;34m\u001b[0m\u001b[0m\n\u001b[1;32m     96\u001b[0m             self.h_abs = select_initial_step(\n",
      "\u001b[0;32m~/opt/anaconda3/envs/py308/lib/python3.8/site-packages/scipy/integrate/_ivp/base.py\u001b[0m in \u001b[0;36mfun\u001b[0;34m(t, y)\u001b[0m\n\u001b[1;32m    136\u001b[0m         \u001b[0;32mdef\u001b[0m \u001b[0mfun\u001b[0m\u001b[0;34m(\u001b[0m\u001b[0mt\u001b[0m\u001b[0;34m,\u001b[0m \u001b[0my\u001b[0m\u001b[0;34m)\u001b[0m\u001b[0;34m:\u001b[0m\u001b[0;34m\u001b[0m\u001b[0;34m\u001b[0m\u001b[0m\n\u001b[1;32m    137\u001b[0m             \u001b[0mself\u001b[0m\u001b[0;34m.\u001b[0m\u001b[0mnfev\u001b[0m \u001b[0;34m+=\u001b[0m \u001b[0;36m1\u001b[0m\u001b[0;34m\u001b[0m\u001b[0;34m\u001b[0m\u001b[0m\n\u001b[0;32m--> 138\u001b[0;31m             \u001b[0;32mreturn\u001b[0m \u001b[0mself\u001b[0m\u001b[0;34m.\u001b[0m\u001b[0mfun_single\u001b[0m\u001b[0;34m(\u001b[0m\u001b[0mt\u001b[0m\u001b[0;34m,\u001b[0m \u001b[0my\u001b[0m\u001b[0;34m)\u001b[0m\u001b[0;34m\u001b[0m\u001b[0;34m\u001b[0m\u001b[0m\n\u001b[0m\u001b[1;32m    139\u001b[0m \u001b[0;34m\u001b[0m\u001b[0m\n\u001b[1;32m    140\u001b[0m         \u001b[0mself\u001b[0m\u001b[0;34m.\u001b[0m\u001b[0mfun\u001b[0m \u001b[0;34m=\u001b[0m \u001b[0mfun\u001b[0m\u001b[0;34m\u001b[0m\u001b[0;34m\u001b[0m\u001b[0m\n",
      "\u001b[0;32m~/opt/anaconda3/envs/py308/lib/python3.8/site-packages/scipy/integrate/_ivp/base.py\u001b[0m in \u001b[0;36mfun_wrapped\u001b[0;34m(t, y)\u001b[0m\n\u001b[1;32m     18\u001b[0m \u001b[0;34m\u001b[0m\u001b[0m\n\u001b[1;32m     19\u001b[0m     \u001b[0;32mdef\u001b[0m \u001b[0mfun_wrapped\u001b[0m\u001b[0;34m(\u001b[0m\u001b[0mt\u001b[0m\u001b[0;34m,\u001b[0m \u001b[0my\u001b[0m\u001b[0;34m)\u001b[0m\u001b[0;34m:\u001b[0m\u001b[0;34m\u001b[0m\u001b[0;34m\u001b[0m\u001b[0m\n\u001b[0;32m---> 20\u001b[0;31m         \u001b[0;32mreturn\u001b[0m \u001b[0mnp\u001b[0m\u001b[0;34m.\u001b[0m\u001b[0masarray\u001b[0m\u001b[0;34m(\u001b[0m\u001b[0mfun\u001b[0m\u001b[0;34m(\u001b[0m\u001b[0mt\u001b[0m\u001b[0;34m,\u001b[0m \u001b[0my\u001b[0m\u001b[0;34m)\u001b[0m\u001b[0;34m,\u001b[0m \u001b[0mdtype\u001b[0m\u001b[0;34m=\u001b[0m\u001b[0mdtype\u001b[0m\u001b[0;34m)\u001b[0m\u001b[0;34m\u001b[0m\u001b[0;34m\u001b[0m\u001b[0m\n\u001b[0m\u001b[1;32m     21\u001b[0m \u001b[0;34m\u001b[0m\u001b[0m\n\u001b[1;32m     22\u001b[0m     \u001b[0;32mreturn\u001b[0m \u001b[0mfun_wrapped\u001b[0m\u001b[0;34m,\u001b[0m \u001b[0my0\u001b[0m\u001b[0;34m\u001b[0m\u001b[0;34m\u001b[0m\u001b[0m\n",
      "\u001b[0;32m~/opt/anaconda3/envs/py308/lib/python3.8/site-packages/scipy/integrate/_ivp/ivp.py\u001b[0m in \u001b[0;36m<lambda>\u001b[0;34m(t, x, fun)\u001b[0m\n\u001b[1;32m    516\u001b[0m         \u001b[0;31m# additional parameters.  Pass in the original fun as a keyword\u001b[0m\u001b[0;34m\u001b[0m\u001b[0;34m\u001b[0m\u001b[0;34m\u001b[0m\u001b[0m\n\u001b[1;32m    517\u001b[0m         \u001b[0;31m# argument to keep it in the scope of the lambda.\u001b[0m\u001b[0;34m\u001b[0m\u001b[0;34m\u001b[0m\u001b[0;34m\u001b[0m\u001b[0m\n\u001b[0;32m--> 518\u001b[0;31m         \u001b[0mfun\u001b[0m \u001b[0;34m=\u001b[0m \u001b[0;32mlambda\u001b[0m \u001b[0mt\u001b[0m\u001b[0;34m,\u001b[0m \u001b[0mx\u001b[0m\u001b[0;34m,\u001b[0m \u001b[0mfun\u001b[0m\u001b[0;34m=\u001b[0m\u001b[0mfun\u001b[0m\u001b[0;34m:\u001b[0m \u001b[0mfun\u001b[0m\u001b[0;34m(\u001b[0m\u001b[0mt\u001b[0m\u001b[0;34m,\u001b[0m \u001b[0mx\u001b[0m\u001b[0;34m,\u001b[0m \u001b[0;34m*\u001b[0m\u001b[0margs\u001b[0m\u001b[0;34m)\u001b[0m\u001b[0;34m\u001b[0m\u001b[0;34m\u001b[0m\u001b[0m\n\u001b[0m\u001b[1;32m    519\u001b[0m         \u001b[0mjac\u001b[0m \u001b[0;34m=\u001b[0m \u001b[0moptions\u001b[0m\u001b[0;34m.\u001b[0m\u001b[0mget\u001b[0m\u001b[0;34m(\u001b[0m\u001b[0;34m'jac'\u001b[0m\u001b[0;34m)\u001b[0m\u001b[0;34m\u001b[0m\u001b[0;34m\u001b[0m\u001b[0m\n\u001b[1;32m    520\u001b[0m         \u001b[0;32mif\u001b[0m \u001b[0mcallable\u001b[0m\u001b[0;34m(\u001b[0m\u001b[0mjac\u001b[0m\u001b[0;34m)\u001b[0m\u001b[0;34m:\u001b[0m\u001b[0;34m\u001b[0m\u001b[0;34m\u001b[0m\u001b[0m\n",
      "\u001b[0;32m~/Documents/Code/Personal/Funnel/./model/model.py\u001b[0m in \u001b[0;36mdvdt\u001b[0;34m(t, V, um, up, length)\u001b[0m\n\u001b[1;32m    240\u001b[0m                 \u001b[0mA\u001b[0m\u001b[0;34m,\u001b[0m\u001b[0mB\u001b[0m \u001b[0;34m=\u001b[0m \u001b[0mself\u001b[0m\u001b[0;34m.\u001b[0m\u001b[0mdiff_numeric\u001b[0m\u001b[0;34m(\u001b[0m\u001b[0mx\u001b[0m\u001b[0;34m,\u001b[0m\u001b[0mu\u001b[0m\u001b[0;34m)\u001b[0m\u001b[0;34m\u001b[0m\u001b[0;34m\u001b[0m\u001b[0m\n\u001b[1;32m    241\u001b[0m             \u001b[0;32melif\u001b[0m \u001b[0mself\u001b[0m\u001b[0;34m.\u001b[0m\u001b[0mtype_linearization\u001b[0m \u001b[0;34m==\u001b[0m \u001b[0;34m\"analytic\"\u001b[0m \u001b[0;34m:\u001b[0m\u001b[0;34m\u001b[0m\u001b[0;34m\u001b[0m\u001b[0m\n\u001b[0;32m--> 242\u001b[0;31m                 \u001b[0mA\u001b[0m\u001b[0;34m,\u001b[0m\u001b[0mB\u001b[0m \u001b[0;34m=\u001b[0m \u001b[0mself\u001b[0m\u001b[0;34m.\u001b[0m\u001b[0mdiff\u001b[0m\u001b[0;34m(\u001b[0m\u001b[0mx\u001b[0m\u001b[0;34m,\u001b[0m\u001b[0mu\u001b[0m\u001b[0;34m)\u001b[0m\u001b[0;34m\u001b[0m\u001b[0;34m\u001b[0m\u001b[0m\n\u001b[0m\u001b[1;32m    243\u001b[0m             \u001b[0mdpdt\u001b[0m \u001b[0;34m=\u001b[0m \u001b[0mnp\u001b[0m\u001b[0;34m.\u001b[0m\u001b[0mmatmul\u001b[0m\u001b[0;34m(\u001b[0m\u001b[0mA\u001b[0m\u001b[0;34m,\u001b[0m\u001b[0mPhi\u001b[0m\u001b[0;34m)\u001b[0m\u001b[0;34m.\u001b[0m\u001b[0mreshape\u001b[0m\u001b[0;34m(\u001b[0m\u001b[0;34m(\u001b[0m\u001b[0mlength\u001b[0m\u001b[0;34m,\u001b[0m\u001b[0mix\u001b[0m\u001b[0;34m*\u001b[0m\u001b[0mix\u001b[0m\u001b[0;34m)\u001b[0m\u001b[0;34m)\u001b[0m\u001b[0;34m.\u001b[0m\u001b[0mtranspose\u001b[0m\u001b[0;34m(\u001b[0m\u001b[0;34m)\u001b[0m\u001b[0;34m\u001b[0m\u001b[0;34m\u001b[0m\u001b[0m\n\u001b[1;32m    244\u001b[0m             \u001b[0mdbmdt\u001b[0m \u001b[0;34m=\u001b[0m \u001b[0mnp\u001b[0m\u001b[0;34m.\u001b[0m\u001b[0mmatmul\u001b[0m\u001b[0;34m(\u001b[0m\u001b[0mPhi_inv\u001b[0m\u001b[0;34m,\u001b[0m\u001b[0mB\u001b[0m\u001b[0;34m)\u001b[0m\u001b[0;34m.\u001b[0m\u001b[0mreshape\u001b[0m\u001b[0;34m(\u001b[0m\u001b[0;34m(\u001b[0m\u001b[0mlength\u001b[0m\u001b[0;34m,\u001b[0m\u001b[0mix\u001b[0m\u001b[0;34m*\u001b[0m\u001b[0miu\u001b[0m\u001b[0;34m)\u001b[0m\u001b[0;34m)\u001b[0m\u001b[0;34m.\u001b[0m\u001b[0mtranspose\u001b[0m\u001b[0;34m(\u001b[0m\u001b[0;34m)\u001b[0m \u001b[0;34m*\u001b[0m \u001b[0malpha\u001b[0m\u001b[0;34m\u001b[0m\u001b[0;34m\u001b[0m\u001b[0m\n",
      "\u001b[0;32m~/Documents/Code/Personal/Funnel/./model/UnicycleModel.py\u001b[0m in \u001b[0;36mdiff\u001b[0;34m(self, x, u)\u001b[0m\n\u001b[1;32m     69\u001b[0m         \u001b[0mfx\u001b[0m\u001b[0;34m[\u001b[0m\u001b[0;34m:\u001b[0m\u001b[0;34m,\u001b[0m\u001b[0;36m0\u001b[0m\u001b[0;34m,\u001b[0m\u001b[0;36m0\u001b[0m\u001b[0;34m]\u001b[0m \u001b[0;34m=\u001b[0m \u001b[0;36m1.0\u001b[0m\u001b[0;34m\u001b[0m\u001b[0;34m\u001b[0m\u001b[0m\n\u001b[1;32m     70\u001b[0m         \u001b[0mfx\u001b[0m\u001b[0;34m[\u001b[0m\u001b[0;34m:\u001b[0m\u001b[0;34m,\u001b[0m\u001b[0;36m0\u001b[0m\u001b[0;34m,\u001b[0m\u001b[0;36m1\u001b[0m\u001b[0;34m]\u001b[0m \u001b[0;34m=\u001b[0m \u001b[0;36m0.0\u001b[0m\u001b[0;34m\u001b[0m\u001b[0;34m\u001b[0m\u001b[0m\n\u001b[0;32m---> 71\u001b[0;31m         \u001b[0mfx\u001b[0m\u001b[0;34m[\u001b[0m\u001b[0;34m:\u001b[0m\u001b[0;34m,\u001b[0m\u001b[0;36m0\u001b[0m\u001b[0;34m,\u001b[0m\u001b[0;36m2\u001b[0m\u001b[0;34m]\u001b[0m \u001b[0;34m=\u001b[0m \u001b[0;34m-\u001b[0m \u001b[0mself\u001b[0m\u001b[0;34m.\u001b[0m\u001b[0mdelT\u001b[0m \u001b[0;34m*\u001b[0m \u001b[0mv\u001b[0m \u001b[0;34m*\u001b[0m \u001b[0mnp\u001b[0m\u001b[0;34m.\u001b[0m\u001b[0msin\u001b[0m\u001b[0;34m(\u001b[0m\u001b[0mx3\u001b[0m\u001b[0;34m)\u001b[0m\u001b[0;34m\u001b[0m\u001b[0;34m\u001b[0m\u001b[0m\n\u001b[0m\u001b[1;32m     72\u001b[0m         \u001b[0mfx\u001b[0m\u001b[0;34m[\u001b[0m\u001b[0;34m:\u001b[0m\u001b[0;34m,\u001b[0m\u001b[0;36m1\u001b[0m\u001b[0;34m,\u001b[0m\u001b[0;36m0\u001b[0m\u001b[0;34m]\u001b[0m \u001b[0;34m=\u001b[0m \u001b[0;36m0.0\u001b[0m\u001b[0;34m\u001b[0m\u001b[0;34m\u001b[0m\u001b[0m\n\u001b[1;32m     73\u001b[0m         \u001b[0mfx\u001b[0m\u001b[0;34m[\u001b[0m\u001b[0;34m:\u001b[0m\u001b[0;34m,\u001b[0m\u001b[0;36m1\u001b[0m\u001b[0;34m,\u001b[0m\u001b[0;36m1\u001b[0m\u001b[0;34m]\u001b[0m \u001b[0;34m=\u001b[0m \u001b[0;36m1.0\u001b[0m\u001b[0;34m\u001b[0m\u001b[0;34m\u001b[0m\u001b[0m\n",
      "\u001b[0;31mAttributeError\u001b[0m: 'unicycle' object has no attribute 'delT'"
     ]
    }
   ],
   "source": [
    "i1 = PTR('unicycle',N,tf,max_iter,myModel,myCost,myConst,type_discretization=\"foh\",\n",
    "          w_c=1,w_vc=1e3,w_tr=1e0,tol_vc=1e-6,tol_tr=1e-3)\n",
    "x,u,xbar,ubar,total_num_iter,flag_boundary,l,l_vc,l_tr = i1.run(x0,u0,xi,xf)\n"
   ]
  },
  {
   "cell_type": "code",
   "execution_count": null,
   "id": "academic-environment",
   "metadata": {},
   "outputs": [],
   "source": [
    "fS = 18\n",
    "plt.figure(figsize=(5,5))\n",
    "ax=plt.gca()\n",
    "for ce,H in zip(c_list,H_list) :\n",
    "    rx = 1/H[0,0]\n",
    "    ry = 1/H[1,1]\n",
    "    circle1 = Ellipse((ce[0],ce[1]),rx*2,ry*2,color='tab:red',alpha=0.5,fill=True)\n",
    "    ax.add_patch(circle1)\n",
    "plt.plot(x[:,0], x[:,1], linewidth=2.0)\n",
    "plt.plot(xf[0],xf[1],\"o\",label='goal')\n",
    "plt.gca().set_aspect('equal', adjustable='box')\n",
    "plt.axis([-0.5, 2.5, -0.5, 2.5])\n",
    "plt.xlabel('X (m)', fontsize = fS)\n",
    "plt.ylabel('Y (m)', fontsize = fS)"
   ]
  },
  {
   "cell_type": "code",
   "execution_count": null,
   "id": "60fa90d2",
   "metadata": {},
   "outputs": [],
   "source": []
  },
  {
   "cell_type": "code",
   "execution_count": null,
   "id": "brown-electronics",
   "metadata": {},
   "outputs": [],
   "source": [
    "plt.figure(figsize=(10,10))\n",
    "t_index = np.array(range(N+1))*delT\n",
    "plt.subplot(221)\n",
    "plt.plot(x[:,0], x[:,1], linewidth=2.0)\n",
    "plt.plot(xf[0],xf[1],\"o\",label='goal')\n",
    "plt.gca().set_aspect('equal', adjustable='box')\n",
    "plt.axis([-3, 3, -3, 3])\n",
    "plt.xlabel('X (m)', fontsize = fS)\n",
    "plt.ylabel('Y (m)', fontsize = fS)\n",
    "plt.subplot(222)\n",
    "plt.plot(t_index, x[:,0], linewidth=2.0,label='naive')\n",
    "plt.xlabel('time (s)', fontsize = fS)\n",
    "plt.ylabel('x1 (m)', fontsize = fS)\n",
    "plt.subplot(223)\n",
    "plt.plot(t_index, x[:,1], linewidth=2.0,label='naive')\n",
    "plt.xlabel('time (s)', fontsize = fS)\n",
    "plt.ylabel('x2 (m)', fontsize = fS)\n",
    "plt.subplot(224)\n",
    "plt.plot(t_index, x[:,2], linewidth=2.0,label='naive')\n",
    "plt.xlabel('time (s)', fontsize = fS)\n",
    "plt.ylabel('x3 (rad)', fontsize = fS)\n",
    "plt.legend(fontsize=fS)\n",
    "plt.show()\n",
    "\n",
    "plt.figure()\n",
    "plt.subplot(121)\n",
    "plt.plot(t_index, u[:,0], linewidth=2.0)\n",
    "plt.xlabel('time (s)', fontsize = fS)\n",
    "plt.ylabel('v (m/s)', fontsize = fS)\n",
    "plt.subplot(122)\n",
    "plt.plot(t_index, u[:,1], linewidth=2.0)\n",
    "plt.xlabel('time (s)', fontsize = fS)\n",
    "plt.ylabel('w (rad/s)', fontsize = fS)\n",
    "plt.show()"
   ]
  },
  {
   "cell_type": "code",
   "execution_count": null,
   "id": "d8226437",
   "metadata": {},
   "outputs": [],
   "source": [
    "u[:N,0]"
   ]
  },
  {
   "cell_type": "code",
   "execution_count": null,
   "id": "b3e5e23f",
   "metadata": {},
   "outputs": [],
   "source": []
  },
  {
   "cell_type": "markdown",
   "id": "lesbian-captain",
   "metadata": {},
   "source": [
    "# linear model"
   ]
  },
  {
   "cell_type": "code",
   "execution_count": null,
   "id": "hollow-income",
   "metadata": {},
   "outputs": [],
   "source": [
    "print_np(x)\n",
    "print_np(u)"
   ]
  },
  {
   "cell_type": "code",
   "execution_count": null,
   "id": "thrown-import",
   "metadata": {},
   "outputs": [],
   "source": [
    "A,B,s,z,vc = i1.get_model()\n",
    "print_np(A)\n",
    "print_np(B)\n",
    "print_np(s)\n",
    "print_np(z)\n",
    "print_np(vc)\n",
    "C = s+z+vc"
   ]
  },
  {
   "cell_type": "markdown",
   "id": "detected-equation",
   "metadata": {},
   "source": [
    "# Scaling"
   ]
  },
  {
   "cell_type": "code",
   "execution_count": null,
   "id": "impressive-abuse",
   "metadata": {},
   "outputs": [],
   "source": [
    "Sx,iSx,sx,Su,iSu,su = compute_scaling(x,u)"
   ]
  },
  {
   "cell_type": "markdown",
   "id": "statistical-sewing",
   "metadata": {},
   "source": [
    "# Feasibility of a quadratic funnel"
   ]
  },
  {
   "cell_type": "code",
   "execution_count": null,
   "id": "clear-jumping",
   "metadata": {},
   "outputs": [],
   "source": [
    "from cvxpy.atoms.log_det import log_det\n",
    "a1 = np.array([[-1],[0],[0]])\n",
    "b1 = 3\n",
    "a2 = np.array([[0],[-1],[0]])\n",
    "b2 = 3\n",
    "a3 = np.array([[0],[0],[1]])\n",
    "b3 = np.pi\n",
    "a4 = np.array([[0],[0],[-1]])\n",
    "b4 = np.pi"
   ]
  },
  {
   "cell_type": "code",
   "execution_count": null,
   "id": "abroad-garlic",
   "metadata": {},
   "outputs": [],
   "source": [
    "Q_max_list = []\n",
    "for i in range(N+1) :\n",
    "    Z = cp.Variable((ix,ix), PSD=True)\n",
    "    constraints = []\n",
    "    constraints.append(cp.norm((Sx@Z@Sx)@a1,2) + a1.T@x[i] <= b1)\n",
    "    constraints.append(cp.norm((Sx@Z@Sx)@a2,2) + a2.T@x[i] <= b2)\n",
    "    constraints.append(cp.norm((Sx@Z@Sx)@a3,2) + a3.T@x[i] <= b3)\n",
    "    constraints.append(cp.norm((Sx@Z@Sx)@a4,2) + a4.T@x[i] <= b4)\n",
    "    constraints.append((Sx@Z@Sx) << 10*np.eye(ix))\n",
    "    prob = cp.Problem(cp.Minimize(-log_det((Sx@Z@Sx))),constraints)\n",
    "    prob.solve()\n",
    "    Z_val = Sx@Z.value@Sx \n",
    "    Q_max_list.append(Z_val@Z_val)\n",
    "#     Q_max_list.append(np.diag(Z.value.data[0])@np.diag(Z.value.data[0]))"
   ]
  },
  {
   "cell_type": "code",
   "execution_count": null,
   "id": "handy-techno",
   "metadata": {
    "scrolled": true
   },
   "outputs": [],
   "source": [
    "Q_max_list"
   ]
  },
  {
   "cell_type": "markdown",
   "id": "natural-block",
   "metadata": {},
   "source": [
    "## input"
   ]
  },
  {
   "cell_type": "code",
   "execution_count": null,
   "id": "thorough-drill",
   "metadata": {},
   "outputs": [],
   "source": [
    "a1 = np.array([[1],[0]])\n",
    "b1 = 4\n",
    "a2 = np.array([[-1],[0]])\n",
    "b2 = 1\n",
    "a3 = np.array([[0],[1]])\n",
    "b3 = 3\n",
    "a4 = np.array([[0],[-1]])\n",
    "b4 = 3"
   ]
  },
  {
   "cell_type": "code",
   "execution_count": null,
   "id": "ahead-russian",
   "metadata": {},
   "outputs": [],
   "source": [
    "R_max_list = []\n",
    "for i in range(N) :\n",
    "    Z = cp.Variable((iu,iu), PSD=True)\n",
    "    constraints = []\n",
    "    constraints.append(cp.norm((Su@Z@Su)@a1,2) + a1.T@u[i] <= b1)\n",
    "    constraints.append(cp.norm((Su@Z@Su)@a2,2) + a2.T@u[i] <= b2)\n",
    "    constraints.append(cp.norm((Su@Z@Su)@a3,2) + a3.T@u[i] <= b3)\n",
    "    constraints.append(cp.norm((Su@Z@Su)@a4,2) + a4.T@u[i] <= b4)\n",
    "#     constraints.append(0 << Z)\n",
    "    constraints.append((Su@Z@Su) << 100*np.eye(iu))\n",
    "    prob = cp.Problem(cp.Minimize(-log_det((Su@Z@Su))),constraints)\n",
    "    prob.solve()\n",
    "    Z_val = Su@Z.value@Su\n",
    "    R_max_list.append(Z_val@Z_val)"
   ]
  },
  {
   "cell_type": "markdown",
   "id": "headed-conversation",
   "metadata": {},
   "source": [
    "# LMI"
   ]
  },
  {
   "cell_type": "code",
   "execution_count": null,
   "id": "editorial-deployment",
   "metadata": {},
   "outputs": [],
   "source": [
    "rho = 0.9\n",
    "rQ = cp.Variable((N+1,1),nonneg=True)\n",
    "Q_list = []\n",
    "Y_list = []\n",
    "for i in range(N) :\n",
    "    Q_list.append(cp.Variable((ix,ix), PSD=True))\n",
    "#     Q_list.append(cp.Variable((ix,ix), diag=True))\n",
    "    Y_list.append(cp.Variable((iu,ix)))\n",
    "Q_list.append(cp.Variable((ix,ix), PSD=True))"
   ]
  },
  {
   "cell_type": "code",
   "execution_count": null,
   "id": "removed-theta",
   "metadata": {},
   "outputs": [],
   "source": [
    "constraints = []\n",
    "for i in range(N) :\n",
    "    # scalining\n",
    "    Qi = Sx@Q_list[i]@Sx\n",
    "    Qi_next = Sx@Q_list[i+1]@Sx\n",
    "    Yi = Su@Y_list[i]@Sx\n",
    "    # stability\n",
    "    tmp1 = cp.hstack((rho*Qi,Qi@A[i].T + Yi.T@B[i].T))\n",
    "    tmp2 = cp.hstack((A[i]@Qi+B[i]@Yi,Qi_next))\n",
    "    left1 = cp.vstack((tmp1,tmp2))\n",
    "#     constraints.append(Qi >> rQ[i])\n",
    "    constraints.append(Qi >> 0)\n",
    "    constraints.append(left1 >> 0)\n",
    "    \n",
    "    # feasibility - input\n",
    "#     tmp3 = cp.hstack((Qi,Yi.T))\n",
    "#     tmp4 = cp.hstack((Yi,R_max_list[i]))\n",
    "#     left2 = cp.vstack((tmp3,tmp4))\n",
    "#     constraints.append(left2 >> 0)\n",
    "    # feasibility - state\n",
    "    constraints.append(Qi << Q_max_list[i])\n",
    "Qi = Sx@Q_list[-1]@Sx\n",
    "constraints.append(Qi >> 0)\n",
    "constraints.append(Qi << Q_max_list[-1])"
   ]
  },
  {
   "cell_type": "code",
   "execution_count": null,
   "id": "dominican-ranch",
   "metadata": {},
   "outputs": [],
   "source": [
    "# prob = cp.Problem(cp.Minimize(1),constraints)\n",
    "# prob = cp.Problem(cp.Minimize(-cp.sum(rQ)),constraints)\n",
    "prob = cp.Problem(cp.Minimize(-log_det(Sx@Q_list[0]@Sx)),constraints)\n",
    "# prob = cp.Problem(cp.Minimize(-log_det(Sx@Q_list[0]@Sx)-cp.sum(rQ)),constraints)\n",
    "prob.solve()\n",
    "print(prob.status)"
   ]
  },
  {
   "cell_type": "code",
   "execution_count": null,
   "id": "adverse-blocking",
   "metadata": {},
   "outputs": [],
   "source": [
    "prob.value"
   ]
  },
  {
   "cell_type": "code",
   "execution_count": null,
   "id": "removable-awareness",
   "metadata": {},
   "outputs": [],
   "source": [
    "Q_final = []\n",
    "Y_final = []\n",
    "for i in range(N) :\n",
    "    Q_final.append(Sx@Q_list[i].value@Sx)\n",
    "    Y_final.append(Su@Y_list[i].value@Sx)\n",
    "Q_final.append(Sx@Q_list[0].value@Sx)"
   ]
  },
  {
   "cell_type": "code",
   "execution_count": null,
   "id": "gorgeous-liberia",
   "metadata": {},
   "outputs": [],
   "source": [
    "K_list = []\n",
    "for i in range(N) :\n",
    "    K = Y_final[i]@np.linalg.inv(Q_final[i])\n",
    "    K_list.append(K)\n",
    "K_list = np.array(K_list)\n",
    "print(np.sum(np.linalg.norm(K_list,2,2),0))"
   ]
  },
  {
   "cell_type": "code",
   "execution_count": null,
   "id": "graduate-employment",
   "metadata": {},
   "outputs": [],
   "source": [
    "# # LQR K\n",
    "# def get_K(A,B,Q,R,Q_final,N,ix,iu) :\n",
    "#     # Q = np.eye(ix)*1e2\n",
    "#     # R = np.eye(iu)\n",
    "#     P = np.zeros((N+1,ix,ix))\n",
    "#     K = np.zeros((N,iu,ix))\n",
    "#     P[N] = Q_final\n",
    "#     for i in range(N-1,-1,-1) :\n",
    "#         K[i] = np.linalg.inv(B[i].T@P[i+1]@B[i]+R)@B[i].T@P[i+1]@A[i]\n",
    "#         P[i] = (A[i]-B[i]@K[i]).T@P[i+1]@(A[i]-B[i]@K[i])+K[i].T@R@K[i]+Q\n",
    "#     return -K\n",
    "# Q = 2*np.eye(ix)\n",
    "# R = np.eye(iu)\n",
    "# Q_final = 2*np.eye(ix)\n",
    "# K_list = get_K(A,B,Q,R,Q_final,N,ix,iu)\n",
    "# print(np.sum(np.linalg.norm(K_list,2,2),0))"
   ]
  },
  {
   "cell_type": "markdown",
   "id": "valuable-tactics",
   "metadata": {},
   "source": [
    "# rollout"
   ]
  },
  {
   "cell_type": "code",
   "execution_count": null,
   "id": "manual-exclusion",
   "metadata": {},
   "outputs": [],
   "source": [
    "N_sample = 20\n",
    "xdata = np.zeros((N_sample,N+1,ix))\n",
    "udata = np.zeros((N_sample,N+1,iu))\n",
    "std_position = [0.3,0.3,0.0]"
   ]
  },
  {
   "cell_type": "code",
   "execution_count": null,
   "id": "grave-words",
   "metadata": {},
   "outputs": [],
   "source": [
    "for j in range(N_sample) :\n",
    "    xdata[j,0] = x[0] + np.random.randn(ix) * np.array(std_position)\n",
    "    for i in range(N) :\n",
    "        udata[j,i] = u[i]+K_list[i]@(xdata[j,i]-x[i])\n",
    "        xdata[j,i+1] = A[i]@xdata[j,i]+B[i]@udata[j,i] + C[i]\n",
    "        # xdata[j,i+1] = xbar[i+1] + np.random.randn(ix) * np.array(noise_std) # injecting noise"
   ]
  },
  {
   "cell_type": "code",
   "execution_count": null,
   "id": "south-territory",
   "metadata": {},
   "outputs": [],
   "source": [
    "fS = 18\n",
    "plt.figure(figsize=(5,5))\n",
    "for i in range(N_sample) :\n",
    "    plt.plot(xdata[i,:,0], xdata[i,:,1], linewidth=1.0)\n",
    "plt.plot(x[:,0], x[:,1], linewidth=2.0)\n",
    "plt.plot(xf[0],xf[1],\"o\",label='goal')\n",
    "plt.gca().set_aspect('equal', adjustable='box')\n",
    "plt.axis([-3, 3, -3, 3])\n",
    "plt.xlabel('X (m)', fontsize = fS)\n",
    "plt.ylabel('Y (m)', fontsize = fS)"
   ]
  },
  {
   "cell_type": "markdown",
   "id": "iraqi-roman",
   "metadata": {},
   "source": [
    "# plot ellipsoidal sets"
   ]
  },
  {
   "cell_type": "code",
   "execution_count": null,
   "id": "controversial-habitat",
   "metadata": {},
   "outputs": [],
   "source": [
    "(rho ** 2)"
   ]
  },
  {
   "cell_type": "code",
   "execution_count": null,
   "id": "cultural-quick",
   "metadata": {},
   "outputs": [],
   "source": [
    "ellipse_list = []\n",
    "theta = np.linspace(0,2*np.pi,30)\n",
    "c = 1\n",
    "circle_x = c * np.cos(theta) \n",
    "circle_y = c * np.sin(theta) \n",
    "circle = np.vstack((circle_x,circle_y,np.zeros_like(circle_x)))\n",
    "for i in range(N+1) :\n",
    "    Q_tmp = Q_final[i]\n",
    "    L = np.linalg.cholesky(np.linalg.inv(Q_tmp))\n",
    "    c = 1 * (rho ** i)\n",
    "    circle_x = c * np.cos(theta) \n",
    "    circle_y = c * np.sin(theta) \n",
    "    circle = np.vstack((circle_x,circle_y,np.zeros_like(circle_x))) \n",
    "    ellipse = np.linalg.inv(L.T)@circle\n",
    "    ellipse_list.append(ellipse)"
   ]
  },
  {
   "cell_type": "code",
   "execution_count": null,
   "id": "tutorial-calgary",
   "metadata": {},
   "outputs": [],
   "source": [
    "fS = 18\n",
    "plt.figure(figsize=(10,10))\n",
    "for i in range(N+1) :\n",
    "    plt.plot(ellipse_list[i][0,:]+x[i,0],ellipse_list[i][1,:]+x[i,1], linewidth=2.0,color='tab:grey')\n",
    "plt.plot(x[:,0], x[:,1], linewidth=2.0)\n",
    "plt.plot(xf[0],xf[1],\"o\",label='goal')\n",
    "plt.gca().set_aspect('equal', adjustable='box')\n",
    "plt.axis([-5, 3, -5, 3])\n",
    "plt.xlabel('X (m)', fontsize = fS)\n",
    "plt.ylabel('Y (m)', fontsize = fS)"
   ]
  },
  {
   "cell_type": "markdown",
   "id": "collectible-emperor",
   "metadata": {},
   "source": [
    "# Lipschitz constant estimation"
   ]
  },
  {
   "cell_type": "markdown",
   "id": "hundred-thread",
   "metadata": {},
   "source": [
    "## sample generation at t=0"
   ]
  },
  {
   "cell_type": "code",
   "execution_count": null,
   "id": "informed-spank",
   "metadata": {},
   "outputs": [],
   "source": [
    "x_sample = []\n",
    "u_sample = []\n",
    "num_sample = 100\n",
    "idx = 0\n",
    "for i in range(num_sample) :\n",
    "    z = np.random.randn(ix)\n",
    "    z = z / np.linalg.norm(z)\n",
    "    x_s = x[idx] + Q_final[idx]@z\n",
    "    u_s = u[idx] + K_list[idx]@(x_s-x[idx])\n",
    "    x_sample.append(x_s)\n",
    "    u_sample.append(u_s)\n",
    "x_sample = np.array(x_sample)\n",
    "u_sample = np.array(u_sample)\n",
    "print_np(x_sample)"
   ]
  },
  {
   "cell_type": "markdown",
   "id": "above-right",
   "metadata": {},
   "source": [
    "## next state"
   ]
  },
  {
   "cell_type": "code",
   "execution_count": null,
   "id": "distant-future",
   "metadata": {},
   "outputs": [],
   "source": [
    "from forward import forward_one_step"
   ]
  },
  {
   "cell_type": "code",
   "execution_count": null,
   "id": "hungry-diana",
   "metadata": {},
   "outputs": [],
   "source": [
    "x_next = forward_one_step(myModel,x_sample,u_sample)\n",
    "x_next_from_linear = np.transpose(A[idx]@x_sample.T + B[idx]@u_sample.T)"
   ]
  },
  {
   "cell_type": "code",
   "execution_count": null,
   "id": "superb-yahoo",
   "metadata": {
    "scrolled": true
   },
   "outputs": [],
   "source": [
    "# fS = 18\n",
    "# plt.figure(figsize=(10,10))\n",
    "# plt.plot(ellipse_list[1][0,:]+x[0,0],ellipse_list[1][1,:]+x[0,1], linewidth=2.0,color='tab:grey')\n",
    "# plt.plot(x_next[:,0],x_next[:,1],'o')\n",
    "# plt.plot(x[:,0], x[:,1], linewidth=2.0)\n",
    "# plt.plot(xf[0],xf[1],\"o\",label='goal')\n",
    "# plt.gca().set_aspect('equal', adjustable='box')\n",
    "# plt.axis([-5, 3, -5, 3])\n",
    "# plt.xlabel('X (m)', fontsize = fS)\n",
    "# plt.ylabel('Y (m)', fontsize = fS)"
   ]
  },
  {
   "cell_type": "markdown",
   "id": "endless-array",
   "metadata": {},
   "source": [
    "## model construction"
   ]
  },
  {
   "cell_type": "code",
   "execution_count": null,
   "id": "sudden-budapest",
   "metadata": {},
   "outputs": [],
   "source": [
    "print_np(C)"
   ]
  },
  {
   "cell_type": "code",
   "execution_count": null,
   "id": "controversial-crawford",
   "metadata": {},
   "outputs": [],
   "source": [
    "C_o = np.array([[0,0,0],[0,0,1]])\n",
    "D_o = np.array([[1,0],[0,0]])\n",
    "E_o = np.array([[1,0],[0,1],[0,0]])\n",
    "C_f = np.tile(C_o,iq) \n",
    "D_f = np.tile(D_o,iq) \n",
    "E_f = np.repeat(E_o,iq,axis=1)"
   ]
  },
  {
   "cell_type": "markdown",
   "id": "progressive-interface",
   "metadata": {},
   "source": [
    "## inner optimization"
   ]
  },
  {
   "cell_type": "code",
   "execution_count": null,
   "id": "experienced-brooklyn",
   "metadata": {},
   "outputs": [],
   "source": [
    "print_np(x_next)"
   ]
  },
  {
   "cell_type": "code",
   "execution_count": null,
   "id": "sunrise-enforcement",
   "metadata": {},
   "outputs": [],
   "source": [
    "idx_sample = 0\n",
    "Delta = cp.Variable((iq*iq,1))"
   ]
  },
  {
   "cell_type": "code",
   "execution_count": null,
   "id": "mathematical-thousand",
   "metadata": {},
   "outputs": [],
   "source": [
    "A_cl = "
   ]
  },
  {
   "cell_type": "code",
   "execution_count": null,
   "id": "double-export",
   "metadata": {},
   "outputs": [],
   "source": [
    "idx_sample = 0\n",
    "Delta = cp.Variable((iq*iq,1))\n",
    "constraint = [x_next[idx_sample] - x_next_from_linear[idx_sample] == E_f@Delta@]"
   ]
  },
  {
   "cell_type": "code",
   "execution_count": null,
   "id": "upper-favor",
   "metadata": {},
   "outputs": [],
   "source": []
  },
  {
   "cell_type": "code",
   "execution_count": null,
   "id": "terminal-yugoslavia",
   "metadata": {},
   "outputs": [],
   "source": []
  },
  {
   "cell_type": "code",
   "execution_count": null,
   "id": "eight-logistics",
   "metadata": {},
   "outputs": [],
   "source": []
  },
  {
   "cell_type": "code",
   "execution_count": null,
   "id": "billion-server",
   "metadata": {},
   "outputs": [],
   "source": []
  },
  {
   "cell_type": "markdown",
   "id": "enabling-suicide",
   "metadata": {},
   "source": [
    "# temp"
   ]
  },
  {
   "cell_type": "code",
   "execution_count": null,
   "id": "spare-police",
   "metadata": {},
   "outputs": [],
   "source": [
    "theta = np.linspace(0,2*np.pi,30)\n",
    "c = 1\n",
    "circle_x = c * np.cos(theta) \n",
    "circle_y = c * np.sin(theta) \n",
    "circle = np.vstack((circle_x,circle_y))\n",
    "Q_tmp = np.diag([100,1])\n",
    "L = np.linalg.cholesky(np.linalg.inv(Q_tmp))\n",
    "ellipse = np.linalg.inv(L.T)@circle"
   ]
  },
  {
   "cell_type": "code",
   "execution_count": null,
   "id": "binary-mandate",
   "metadata": {},
   "outputs": [],
   "source": [
    "plt.plot(ellipse[0,:],ellipse[1,:], linewidth=2.0,color='tab:grey')\n",
    "plt.gca().set_aspect('equal', adjustable='box')"
   ]
  },
  {
   "cell_type": "code",
   "execution_count": null,
   "id": "rolled-monster",
   "metadata": {},
   "outputs": [],
   "source": [
    "4*0.073 / (3*1e-3*1000*9.81)"
   ]
  },
  {
   "cell_type": "code",
   "execution_count": null,
   "id": "checked-massage",
   "metadata": {},
   "outputs": [],
   "source": [
    "101325*100*0.0001"
   ]
  },
  {
   "cell_type": "code",
   "execution_count": null,
   "id": "industrial-nashville",
   "metadata": {},
   "outputs": [],
   "source": [
    "10^(-4)"
   ]
  },
  {
   "cell_type": "code",
   "execution_count": null,
   "id": "laden-feeling",
   "metadata": {},
   "outputs": [],
   "source": [
    "1/((100-32)*5/9 +273)*(28*0.001)/(8.314)*101325*1.5"
   ]
  },
  {
   "cell_type": "code",
   "execution_count": null,
   "id": "excited-damage",
   "metadata": {},
   "outputs": [],
   "source": [
    "101325*1.5*100*0.0001"
   ]
  },
  {
   "cell_type": "code",
   "execution_count": null,
   "id": "passive-immigration",
   "metadata": {},
   "outputs": [],
   "source": [
    "-1.65 * (100*0.0001)*0.1*8.314/(28*0.001)*((100-32)*5/9+273)*np.log(1/1.5)"
   ]
  },
  {
   "cell_type": "code",
   "execution_count": null,
   "id": "aggregate-rachel",
   "metadata": {},
   "outputs": [],
   "source": [
    "61.74+101325*-0.5*(100*0.0001)"
   ]
  },
  {
   "cell_type": "code",
   "execution_count": null,
   "id": "similar-malpractice",
   "metadata": {},
   "outputs": [],
   "source": [
    "61.74+101325*(100*0.0001)*(0.1-0.15)"
   ]
  },
  {
   "cell_type": "code",
   "execution_count": null,
   "id": "individual-bhutan",
   "metadata": {},
   "outputs": [],
   "source": []
  }
 ],
 "metadata": {
  "kernelspec": {
   "display_name": "Python 3 (ipykernel)",
   "language": "python",
   "name": "python3"
  },
  "language_info": {
   "codemirror_mode": {
    "name": "ipython",
    "version": 3
   },
   "file_extension": ".py",
   "mimetype": "text/x-python",
   "name": "python",
   "nbconvert_exporter": "python",
   "pygments_lexer": "ipython3",
   "version": "3.8.12"
  }
 },
 "nbformat": 4,
 "nbformat_minor": 5
}
