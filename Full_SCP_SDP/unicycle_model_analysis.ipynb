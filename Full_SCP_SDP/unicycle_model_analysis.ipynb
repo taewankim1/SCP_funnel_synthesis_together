{
 "cells": [
  {
   "cell_type": "code",
   "execution_count": 1,
   "id": "acquired-benefit",
   "metadata": {},
   "outputs": [],
   "source": [
    "import matplotlib.pyplot as plt\n",
    "# %matplotlib inline\n",
    "%matplotlib qt\n",
    "%load_ext autoreload\n",
    "%autoreload 2\n",
    "import numpy as np\n",
    "import simpy as sp\n",
    "import time\n",
    "import random\n",
    "def print_np(x):\n",
    "    print (\"Type is %s\" % (type(x)))\n",
    "    print (\"Shape is %s\" % (x.shape,))\n",
    "#     print (\"Values are: \\n%s\" % (x))"
   ]
  },
  {
   "cell_type": "code",
   "execution_count": 2,
   "id": "impaired-daniel",
   "metadata": {},
   "outputs": [],
   "source": [
    "from sympy import symbols, Matrix\n",
    "from sympy.matrices import Matrix, eye, zeros, ones, diag, GramSchmidt\n",
    "from sympy import simplify, cos, sin"
   ]
  },
  {
   "cell_type": "code",
   "execution_count": 3,
   "id": "wound-treaty",
   "metadata": {},
   "outputs": [],
   "source": [
    "f = zeros(3, 1)\n",
    "fbar = zeros(3,1)\n",
    "\n",
    "s = Matrix(symbols(\n",
    "    'x y theta', real=True))\n",
    "sbar = Matrix(symbols(\n",
    "    'xbar ybar thetabar', real=True))\n",
    "u = Matrix(symbols('v w', real=True))\n",
    "ubar = Matrix(symbols('vbar wbar', real=True))\n",
    "\n",
    "\n",
    "f[0,0] = u[0,0] * cos(s[2,0])\n",
    "f[1,0] = u[0,0] * sin(s[2,0])\n",
    "f[2,0] = u[1,0]\n",
    "\n",
    "fbar[0,0] = ubar[0,0] * cos(sbar[2,0])\n",
    "fbar[1,0] = ubar[0,0] * sin(sbar[2,0])\n",
    "fbar[2,0] = ubar[1,0]"
   ]
  },
  {
   "cell_type": "code",
   "execution_count": 4,
   "id": "attended-samuel",
   "metadata": {},
   "outputs": [
    {
     "data": {
      "text/latex": [
       "$\\displaystyle \\left[\\begin{matrix}v \\cos{\\left(\\theta \\right)} - \\bar{v} \\cos{\\left(\\bar{\\theta} \\right)}\\\\v \\sin{\\left(\\theta \\right)} - \\bar{v} \\sin{\\left(\\bar{\\theta} \\right)}\\\\w - \\bar{w}\\end{matrix}\\right]$"
      ],
      "text/plain": [
       "Matrix([\n",
       "[v*cos(theta) - vbar*cos(thetabar)],\n",
       "[v*sin(theta) - vbar*sin(thetabar)],\n",
       "[                         w - wbar]])"
      ]
     },
     "execution_count": 4,
     "metadata": {},
     "output_type": "execute_result"
    }
   ],
   "source": [
    "f-fbar"
   ]
  },
  {
   "cell_type": "code",
   "execution_count": 5,
   "id": "structured-collapse",
   "metadata": {},
   "outputs": [],
   "source": [
    "A = zeros(3,3)\n",
    "B = Matrix([[0,0],[0,0],[0,1]])\n",
    "C = Matrix([[0,0,0],[0,0,1]])\n",
    "D = Matrix([[1,0],[0,0]])\n",
    "E = Matrix([[1,0],[0,1],[0,0]])\n",
    "p = zeros(2,1)\n",
    "p[0,0] = u[0,0] * cos(s[2,0])\n",
    "p[1,0] = u[0,0] * sin(s[2,0])\n",
    "\n",
    "pbar = zeros(2,1)\n",
    "pbar[0,0] = ubar[0,0] * cos(sbar[2,0])\n",
    "pbar[1,0] = ubar[0,0] * sin(sbar[2,0])\n"
   ]
  },
  {
   "cell_type": "code",
   "execution_count": 6,
   "id": "opening-indie",
   "metadata": {},
   "outputs": [
    {
     "data": {
      "text/latex": [
       "$\\displaystyle \\left[\\begin{matrix}v \\cos{\\left(\\theta \\right)} - \\bar{v} \\cos{\\left(\\bar{\\theta} \\right)}\\\\v \\sin{\\left(\\theta \\right)} - \\bar{v} \\sin{\\left(\\bar{\\theta} \\right)}\\\\w - \\bar{w}\\end{matrix}\\right]$"
      ],
      "text/plain": [
       "Matrix([\n",
       "[v*cos(theta) - vbar*cos(thetabar)],\n",
       "[v*sin(theta) - vbar*sin(thetabar)],\n",
       "[                         w - wbar]])"
      ]
     },
     "execution_count": 6,
     "metadata": {},
     "output_type": "execute_result"
    }
   ],
   "source": [
    "A*(s-sbar) + B*(u-ubar) + E*(p-pbar)"
   ]
  },
  {
   "cell_type": "code",
   "execution_count": 7,
   "id": "stone-lounge",
   "metadata": {},
   "outputs": [
    {
     "data": {
      "text/latex": [
       "$\\displaystyle \\left[\\begin{matrix}0 & 0 & - \\bar{v} \\sin{\\left(\\bar{\\theta} \\right)}\\\\0 & 0 & \\bar{v} \\cos{\\left(\\bar{\\theta} \\right)}\\\\0 & 0 & 0\\end{matrix}\\right]$"
      ],
      "text/plain": [
       "Matrix([\n",
       "[0, 0, -vbar*sin(thetabar)],\n",
       "[0, 0,  vbar*cos(thetabar)],\n",
       "[0, 0,                   0]])"
      ]
     },
     "metadata": {},
     "output_type": "display_data"
    },
    {
     "data": {
      "text/latex": [
       "$\\displaystyle \\left[\\begin{matrix}\\cos{\\left(\\bar{\\theta} \\right)} & 0\\\\\\sin{\\left(\\bar{\\theta} \\right)} & 0\\\\0 & 1\\end{matrix}\\right]$"
      ],
      "text/plain": [
       "Matrix([\n",
       "[cos(thetabar), 0],\n",
       "[sin(thetabar), 0],\n",
       "[            0, 1]])"
      ]
     },
     "metadata": {},
     "output_type": "display_data"
    }
   ],
   "source": [
    "fx = fbar.jacobian(sbar)\n",
    "fu = fbar.jacobian(ubar)\n",
    "display(fx)\n",
    "display(fu)"
   ]
  },
  {
   "cell_type": "code",
   "execution_count": 10,
   "id": "governing-bandwidth",
   "metadata": {},
   "outputs": [
    {
     "name": "stdout",
     "output_type": "stream",
     "text": [
      "\\left[\\begin{matrix}0 & 0 & - \\bar{v} \\sin{\\left(\\bar{\\theta} \\right)}\\\\0 & 0 & \\bar{v} \\cos{\\left(\\bar{\\theta} \\right)}\\\\0 & 0 & 0\\end{matrix}\\right]\n",
      "\\left[\\begin{matrix}\\cos{\\left(\\bar{\\theta} \\right)} & 0\\\\\\sin{\\left(\\bar{\\theta} \\right)} & 0\\\\0 & 1\\end{matrix}\\right]\n"
     ]
    }
   ],
   "source": [
    "from sympy import Matrix, print_latex\n",
    "print_latex(fx)\n",
    "print_latex(fu)"
   ]
  },
  {
   "cell_type": "code",
   "execution_count": 17,
   "id": "united-hamilton",
   "metadata": {},
   "outputs": [
    {
     "data": {
      "text/latex": [
       "$\\displaystyle \\left[\\begin{matrix}\\theta \\bar{v} \\sin{\\left(\\bar{\\theta} \\right)} + v \\cos{\\left(\\theta \\right)} - v \\cos{\\left(\\bar{\\theta} \\right)}\\\\- \\theta \\bar{v} \\cos{\\left(\\bar{\\theta} \\right)} + v \\sin{\\left(\\theta \\right)} - v \\sin{\\left(\\bar{\\theta} \\right)}\\\\0\\end{matrix}\\right]$"
      ],
      "text/plain": [
       "Matrix([\n",
       "[ theta*vbar*sin(thetabar) + v*cos(theta) - v*cos(thetabar)],\n",
       "[-theta*vbar*cos(thetabar) + v*sin(theta) - v*sin(thetabar)],\n",
       "[                                                         0]])"
      ]
     },
     "metadata": {},
     "output_type": "display_data"
    },
    {
     "name": "stdout",
     "output_type": "stream",
     "text": [
      "\\left[\\begin{matrix}\\theta \\bar{v} \\sin{\\left(\\bar{\\theta} \\right)} + v \\cos{\\left(\\theta \\right)} - v \\cos{\\left(\\bar{\\theta} \\right)}\\\\- \\theta \\bar{v} \\cos{\\left(\\bar{\\theta} \\right)} + v \\sin{\\left(\\theta \\right)} - v \\sin{\\left(\\bar{\\theta} \\right)}\\\\0\\end{matrix}\\right]\n"
     ]
    }
   ],
   "source": [
    "g = f - fx*s-fu*u\n",
    "display(g)\n",
    "print_latex(g)"
   ]
  },
  {
   "cell_type": "code",
   "execution_count": null,
   "id": "federal-malaysia",
   "metadata": {},
   "outputs": [],
   "source": []
  },
  {
   "cell_type": "code",
   "execution_count": null,
   "id": "threatened-contact",
   "metadata": {},
   "outputs": [],
   "source": []
  },
  {
   "cell_type": "code",
   "execution_count": null,
   "id": "arctic-thriller",
   "metadata": {},
   "outputs": [],
   "source": [
    "fx*(s-sbar) + fu*(u-ubar)"
   ]
  },
  {
   "cell_type": "code",
   "execution_count": null,
   "id": "potential-printer",
   "metadata": {},
   "outputs": [],
   "source": [
    "del_pnew = (f-fbar - (fx*(s-sbar) + fu*(u-ubar)))[0:2,0]\n",
    "display(del_pnew)\n",
    "display(p-pbar)"
   ]
  },
  {
   "cell_type": "code",
   "execution_count": null,
   "id": "outdoor-stable",
   "metadata": {},
   "outputs": [],
   "source": [
    "display(fx*(s-sbar) + fu*(u-ubar)+E*del_pnew)\n",
    "display(A*(s-sbar) + B*(u-ubar)+E*(p-pbar))"
   ]
  },
  {
   "cell_type": "code",
   "execution_count": null,
   "id": "pleasant-heath",
   "metadata": {},
   "outputs": [],
   "source": []
  }
 ],
 "metadata": {
  "kernelspec": {
   "display_name": "Python 3 (ipykernel)",
   "language": "python",
   "name": "python3"
  },
  "language_info": {
   "codemirror_mode": {
    "name": "ipython",
    "version": 3
   },
   "file_extension": ".py",
   "mimetype": "text/x-python",
   "name": "python",
   "nbconvert_exporter": "python",
   "pygments_lexer": "ipython3",
   "version": "3.8.12"
  }
 },
 "nbformat": 4,
 "nbformat_minor": 5
}
