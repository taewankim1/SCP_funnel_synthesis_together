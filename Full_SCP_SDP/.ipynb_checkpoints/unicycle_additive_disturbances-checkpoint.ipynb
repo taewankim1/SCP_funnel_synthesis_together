{
 "cells": [
  {
   "cell_type": "code",
   "execution_count": 1,
   "metadata": {},
   "outputs": [
    {
     "ename": "ModuleNotFoundError",
     "evalue": "No module named 'seaborn'",
     "output_type": "error",
     "traceback": [
      "\u001b[0;31m---------------------------------------------------------------------------\u001b[0m",
      "\u001b[0;31mModuleNotFoundError\u001b[0m                       Traceback (most recent call last)",
      "\u001b[0;32m<ipython-input-1-d0725dc79474>\u001b[0m in \u001b[0;36m<module>\u001b[0;34m\u001b[0m\n\u001b[1;32m     10\u001b[0m     \u001b[0mprint\u001b[0m \u001b[0;34m(\u001b[0m\u001b[0;34m\"Shape is %s\"\u001b[0m \u001b[0;34m%\u001b[0m \u001b[0;34m(\u001b[0m\u001b[0mx\u001b[0m\u001b[0;34m.\u001b[0m\u001b[0mshape\u001b[0m\u001b[0;34m,\u001b[0m\u001b[0;34m)\u001b[0m\u001b[0;34m)\u001b[0m\u001b[0;34m\u001b[0m\u001b[0;34m\u001b[0m\u001b[0m\n\u001b[1;32m     11\u001b[0m \u001b[0;31m#     print (\"Values are: \\n%s\" % (x))\u001b[0m\u001b[0;34m\u001b[0m\u001b[0;34m\u001b[0m\u001b[0;34m\u001b[0m\u001b[0m\n\u001b[0;32m---> 12\u001b[0;31m \u001b[0;32mimport\u001b[0m \u001b[0mseaborn\u001b[0m \u001b[0;32mas\u001b[0m \u001b[0msns\u001b[0m\u001b[0;34m\u001b[0m\u001b[0;34m\u001b[0m\u001b[0m\n\u001b[0m\u001b[1;32m     13\u001b[0m \u001b[0msns\u001b[0m\u001b[0;34m.\u001b[0m\u001b[0mset_theme\u001b[0m\u001b[0;34m(\u001b[0m\u001b[0mstyle\u001b[0m\u001b[0;34m=\u001b[0m\u001b[0;34m\"whitegrid\"\u001b[0m\u001b[0;34m)\u001b[0m\u001b[0;34m\u001b[0m\u001b[0;34m\u001b[0m\u001b[0m\n",
      "\u001b[0;31mModuleNotFoundError\u001b[0m: No module named 'seaborn'"
     ]
    }
   ],
   "source": [
    "import matplotlib.pyplot as plt\n",
    "%matplotlib inline\n",
    "%load_ext autoreload\n",
    "%autoreload 2\n",
    "import numpy as np\n",
    "import time\n",
    "import random\n",
    "def print_np(x):\n",
    "    print (\"Type is %s\" % (type(x)))\n",
    "    print (\"Shape is %s\" % (x.shape,))\n",
    "#     print (\"Values are: \\n%s\" % (x))\n",
    "import seaborn as sns\n",
    "sns.set_theme(style=\"whitegrid\")"
   ]
  },
  {
   "cell_type": "code",
   "execution_count": null,
   "metadata": {},
   "outputs": [],
   "source": [
    "import os\n",
    "import sys\n",
    "sys.path.append('./')\n",
    "sys.path.append('./model')\n",
    "sys.path.append('./cost')\n",
    "sys.path.append('./constraints')\n",
    "sys.path.append('./utils')"
   ]
  },
  {
   "cell_type": "code",
   "execution_count": null,
   "metadata": {},
   "outputs": [],
   "source": [
    "import UnicycleModel\n",
    "import UnicycleCost\n",
    "import UnicycleConstraints\n",
    "from scipy.integrate import solve_ivp\n",
    "from PTR import PTR\n",
    "from LMI import Q_update\n",
    "from Scaling import TrajectoryScaling\n",
    "from matplotlib.patches import Ellipse\n",
    "from utils_plot import plot_traj,plot_traj_set,plot_state_input\n",
    "from Scaling import TrajectoryScaling\n",
    "from utils_alg import get_neighbor_vec\n",
    "import cvxpy as cvx\n",
    "from utils_alg import get_sample_eta_w\n",
    "from MSampling import Mstep"
   ]
  },
  {
   "cell_type": "code",
   "execution_count": null,
   "metadata": {},
   "outputs": [],
   "source": [
    "ix = 3\n",
    "iu = 2\n",
    "iw = 2\n",
    "iq = 2\n",
    "ip = 2\n",
    "N = 30\n",
    "tf = 3\n",
    "delT = tf/N\n",
    "max_iter_SCP = 50"
   ]
  },
  {
   "cell_type": "code",
   "execution_count": null,
   "metadata": {},
   "outputs": [],
   "source": [
    "# time-invariant matrices\n",
    "C = np.array([[0,0,1],[0,0,0]])\n",
    "D = np.array([[0,0],[1,0]])\n",
    "E = np.array([[1,0],[0,1],[0,0]])\n",
    "# F = np.array([[0.1,0],[0,0.1],[0,0]])\n",
    "G = np.zeros((iq,iw))"
   ]
  },
  {
   "cell_type": "markdown",
   "metadata": {},
   "source": [
    "## obstacle setting"
   ]
  },
  {
   "cell_type": "code",
   "execution_count": 2,
   "metadata": {},
   "outputs": [],
   "source": [
    "def get_H_obs(rx,ry) :\n",
    "    return np.diag([1/rx,1/ry])\n",
    "# obstacle\n",
    "c_list = []\n",
    "H_list = []\n",
    "c1 = [1,2]\n",
    "H1 = get_H_obs(0.75,1.5)\n",
    "c_list.append(c1)\n",
    "H_list.append(H1)\n",
    "c2 = [4,3]\n",
    "H2 = get_H_obs(0.75,1.5)\n",
    "c_list.append(c2)\n",
    "H_list.append(H2)"
   ]
  },
  {
   "cell_type": "code",
   "execution_count": 3,
   "metadata": {},
   "outputs": [],
   "source": [
    "# plt.figure(figsize=(5,8))\n",
    "# ax=plt.gca()\n",
    "# for ce,H in zip(c_list,H_list) :\n",
    "#     rx = 1/H[0,0]\n",
    "#     ry = 1/H[1,1]\n",
    "#     circle1 = Ellipse((ce[0],ce[1]),rx*2,ry*2,color='tab:red',alpha=0.5,fill=True)\n",
    "#     ax.add_patch(circle1)\n",
    "# plt.axis([-0.5, 5.5, -0.5, 5.5])\n",
    "# plt.gca().set_aspect('equal', adjustable='box')\n",
    "# plt.grid(True)"
   ]
  },
  {
   "cell_type": "markdown",
   "metadata": {},
   "source": [
    "## initial and final conditions "
   ]
  },
  {
   "cell_type": "code",
   "execution_count": 4,
   "metadata": {},
   "outputs": [
    {
     "ename": "NameError",
     "evalue": "name 'get_neighbor_vec' is not defined",
     "output_type": "error",
     "traceback": [
      "\u001b[0;31m---------------------------------------------------------------------------\u001b[0m",
      "\u001b[0;31mNameError\u001b[0m                                 Traceback (most recent call last)",
      "\u001b[0;32m<ipython-input-4-94ecc408fb95>\u001b[0m in \u001b[0;36m<module>\u001b[0;34m\u001b[0m\n\u001b[1;32m     12\u001b[0m \u001b[0mQf\u001b[0m \u001b[0;34m=\u001b[0m \u001b[0mnp\u001b[0m\u001b[0;34m.\u001b[0m\u001b[0mdiag\u001b[0m\u001b[0;34m(\u001b[0m\u001b[0;34m[\u001b[0m\u001b[0;36m0.5\u001b[0m\u001b[0;34m**\u001b[0m\u001b[0;36m2\u001b[0m\u001b[0;34m,\u001b[0m\u001b[0;36m0.5\u001b[0m\u001b[0;34m**\u001b[0m\u001b[0;36m2\u001b[0m\u001b[0;34m,\u001b[0m\u001b[0mnp\u001b[0m\u001b[0;34m.\u001b[0m\u001b[0mdeg2rad\u001b[0m\u001b[0;34m(\u001b[0m\u001b[0;36m20\u001b[0m\u001b[0;34m)\u001b[0m\u001b[0;34m**\u001b[0m\u001b[0;36m2\u001b[0m\u001b[0;34m]\u001b[0m\u001b[0;34m)\u001b[0m\u001b[0;34m*\u001b[0m\u001b[0;36m1.5\u001b[0m\u001b[0;34m\u001b[0m\u001b[0;34m\u001b[0m\u001b[0m\n\u001b[1;32m     13\u001b[0m \u001b[0mvec_neighbor\u001b[0m \u001b[0;34m=\u001b[0m \u001b[0;34m[\u001b[0m\u001b[0;34m]\u001b[0m\u001b[0;34m\u001b[0m\u001b[0;34m\u001b[0m\u001b[0m\n\u001b[0;32m---> 14\u001b[0;31m \u001b[0mxi_neighbor\u001b[0m \u001b[0;34m=\u001b[0m \u001b[0mnp\u001b[0m\u001b[0;34m.\u001b[0m\u001b[0marray\u001b[0m\u001b[0;34m(\u001b[0m\u001b[0mget_neighbor_vec\u001b[0m\u001b[0;34m(\u001b[0m\u001b[0;34m-\u001b[0m\u001b[0;36m1\u001b[0m\u001b[0;34m,\u001b[0m\u001b[0;36m0\u001b[0m\u001b[0;34m,\u001b[0m\u001b[0mix\u001b[0m\u001b[0;34m,\u001b[0m\u001b[0;32mNone\u001b[0m\u001b[0;34m,\u001b[0m\u001b[0mvec_neighbor\u001b[0m\u001b[0;34m)\u001b[0m\u001b[0;34m)\u001b[0m \u001b[0;34m*\u001b[0m \u001b[0mnp\u001b[0m\u001b[0;34m.\u001b[0m\u001b[0marray\u001b[0m\u001b[0;34m(\u001b[0m\u001b[0mxi_margin\u001b[0m\u001b[0;34m)\u001b[0m \u001b[0;34m+\u001b[0m \u001b[0mxi\u001b[0m\u001b[0;34m\u001b[0m\u001b[0;34m\u001b[0m\u001b[0m\n\u001b[0m\u001b[1;32m     15\u001b[0m \u001b[0;34m\u001b[0m\u001b[0m\n\u001b[1;32m     16\u001b[0m \u001b[0mmyModel\u001b[0m \u001b[0;34m=\u001b[0m \u001b[0mUnicycleModel\u001b[0m\u001b[0;34m.\u001b[0m\u001b[0municycle\u001b[0m\u001b[0;34m(\u001b[0m\u001b[0;34m'Hello'\u001b[0m\u001b[0;34m,\u001b[0m\u001b[0mix\u001b[0m\u001b[0;34m,\u001b[0m\u001b[0miu\u001b[0m\u001b[0;34m,\u001b[0m\u001b[0;34m'analytic'\u001b[0m\u001b[0;34m)\u001b[0m\u001b[0;34m\u001b[0m\u001b[0;34m\u001b[0m\u001b[0m\n",
      "\u001b[0;31mNameError\u001b[0m: name 'get_neighbor_vec' is not defined"
     ]
    }
   ],
   "source": [
    "xi = np.zeros(3)\n",
    "xi[0] = 0.0\n",
    "xi[1] = 0.0 \n",
    "xi[2] = 0\n",
    "\n",
    "xf = np.zeros(3)\n",
    "xf[0] = 5.0\n",
    "xf[1] = 5.0\n",
    "xf[2] = 0\n",
    "\n",
    "xi_margin = np.array([0.1,0.1,np.deg2rad(5)])*2\n",
    "Qf = np.diag([0.5**2,0.5**2,np.deg2rad(20)**2])*1.5\n",
    "vec_neighbor = []\n",
    "xi_neighbor = np.array(get_neighbor_vec(-1,0,ix,None,vec_neighbor)) * np.array(xi_margin) + xi\n",
    "\n",
    "myModel = UnicycleModel.unicycle('Hello',ix,iu,'analytic')\n",
    "myCost = UnicycleCost.unicycle('Hello',ix,iu,N)\n",
    "myConst = UnicycleConstraints.UnicycleConstraints('Hello',ix,iu)\n",
    "myConst.set_obstacle(c_list,H_list)\n",
    "\n",
    "x0 = np.zeros((N+1,ix))\n",
    "for i in range(N+1) :\n",
    "    x0[i] = (N-i)/N * xi + i/N * xf\n",
    "# u0 = np.random.rand(N,iu)\n",
    "u0 = np.zeros((N+1,iu))\n",
    "\n"
   ]
  },
  {
   "cell_type": "markdown",
   "metadata": {},
   "source": [
    "# Initial setting"
   ]
  },
  {
   "cell_type": "markdown",
   "metadata": {},
   "source": [
    "## initial trajectory x,u"
   ]
  },
  {
   "cell_type": "code",
   "execution_count": null,
   "metadata": {
    "scrolled": true
   },
   "outputs": [],
   "source": [
    "i1 = PTR('unicycle',N,tf,max_iter_SCP,myModel,myCost,myConst,type_discretization=\"zoh\",\n",
    "          w_c=1,w_vc=1e3,w_tr=1e-1,tol_vc=1e-6,tol_tr=1e-5,verbosity=False)\n",
    "x,u,xbar,ubar,total_num_iter,flag_boundary,l,l_vc,l_tr = i1.run(x0,u0,xi,xf)\n",
    "# plot_traj(xbar,ubar,c_list,H_list,xf)\n",
    "# plot_state_input(xbar,ubar,xi,xf,N,delT)"
   ]
  },
  {
   "cell_type": "markdown",
   "metadata": {},
   "source": [
    "## Initial trajectory Q, K"
   ]
  },
  {
   "cell_type": "code",
   "execution_count": null,
   "metadata": {},
   "outputs": [],
   "source": [
    "# get LQR K\n",
    "# A,B,s,z,vc = i1.get_model()\n",
    "# C = s+z\n",
    "A,B = myModel.diff_numeric_central(xbar,ubar)\n",
    "from utils_alg import get_K\n",
    "S = np.eye(ix)\n",
    "R = 10*np.eye(iu)\n",
    "# R[1,1] *= 0.1\n",
    "S_final = 2*np.eye(ix)\n",
    "Kbar = get_K(A[:N],B[:N],S,R,N,ix,iu)\n",
    "Qbar = np.tile(np.diag([0.3**2,0.3**2,np.deg2rad(10)**2]),(N+1,1,1))"
   ]
  },
  {
   "cell_type": "code",
   "execution_count": null,
   "metadata": {},
   "outputs": [],
   "source": [
    "Ybar = Kbar@Qbar[:N]\n",
    "print_np(Ybar)"
   ]
  },
  {
   "cell_type": "code",
   "execution_count": null,
   "metadata": {},
   "outputs": [],
   "source": [
    "plt.figure(0,figsize=(7,7))\n",
    "plot_traj_set(xbar,ubar,c_list,H_list,Qbar,xi=xi,xf=xf,xi_margin=xi_margin,Qf=Qf,plt=plt)\n"
   ]
  },
  {
   "cell_type": "markdown",
   "metadata": {},
   "source": [
    "# Start"
   ]
  },
  {
   "cell_type": "code",
   "execution_count": null,
   "metadata": {
    "scrolled": true
   },
   "outputs": [],
   "source": [
    "history = []\n",
    "max_iter = 50\n",
    "tol_Q = 1e-4\n",
    "tol_K = 1e-3\n",
    "# moving horizon estimation\n",
    "movinghorizon_gamma = np.zeros((max_iter,N))\n",
    "length_horizon = 15\n",
    "# reject small gamma after N_reject iteration\n",
    "N_reject = 10\n",
    "total_iter = 0\n",
    "for idx_iter in range(max_iter) :\n",
    "    traj = {}\n",
    "    # step 1\n",
    "    x0 = xbar\n",
    "    u0 = ubar\n",
    "\n",
    "    # SCP\n",
    "    i1 = PTR('unicycle',N,tf,max_iter_SCP,myModel,myCost,myConst,type_discretization=\"zoh\",\n",
    "              w_c=1,w_vc=1e3,w_tr=1e1,tol_vc=1e-6,tol_tr=1e-4,verbosity=False)\n",
    "    _,_,x,u,total_num_iter,flag_boundary,l,l_vc,l_tr = i1.run(x0,u0,xi,xf,Qbar,Kbar)#,xi_neighbor,xf_margin)\n",
    "    # plot_traj_set(x,u,c_list,H_list,Qbar,xi=xi,xf=xf,xi_margin=xi_margin,Qf=Qf,idx_plot=0)\n",
    "\n",
    "    # step 2\n",
    "    A,B = myModel.diff_numeric_central(xbar,ubar)\n",
    "    F = myModel.diff_F1(xbar,ubar,np.zeros((N,iw)))\n",
    "    myM = Mstep(ix,iu,iq,ip,iw,N)\n",
    "    myM.initialize(xbar,ubar,Qbar,Kbar,A,B,C,D,E,F,G,myModel)\n",
    "    gamma_e = myM.update_lipschitz_parallel()\n",
    "####################################################\n",
    "    movinghorizon_gamma[idx_iter] = gamma_e\n",
    "    if idx_iter >= length_horizon :\n",
    "        gamma = np.mean(movinghorizon_gamma[idx_iter+1-length_horizon:idx_iter+1],0)\n",
    "    else :\n",
    "        gamma = np.mean(movinghorizon_gamma[:idx_iter+1],0)\n",
    "####################################################        \n",
    "#     if idx_iter >= N_reject :\n",
    "#         gamma = np.max(np.vstack((gamma,gamma_e)),0)\n",
    "#     else :\n",
    "#         gamma = np.copy(gamma_e)\n",
    "####################################################        \n",
    "# constant gamma\n",
    "# gamma = np.load('gammatest.npy')\n",
    "####################################################        \n",
    "\n",
    "    print(\"mean of gamma\",np.mean(gamma,0))\n",
    "    print(\"max of gamma\",np.max(gamma,0))\n",
    "    print(\"var of gamma\",np.var(gamma,0))\n",
    "    # step 3\n",
    "    myQ = Q_update(ix,iu,iq,ip,iw,N,delT,myCost.S,myCost.R)\n",
    "    myQ.initialize(x,u,A,B,C,D,E,F,G)\n",
    "\n",
    "    Q,K,Y,status = myQ.solve_type_1(gamma,xi_neighbor,Qf,Qbar,Ybar)\n",
    "    print(\"LMI status:\" + status)\n",
    "\n",
    "    # plot the trajectory\n",
    "    plt.figure(figsize=(7,7))\n",
    "    plot_traj_set(x,u,c_list,H_list,Q,xi=xi,xf=xf,xi_margin=xi_margin,Qf=Qf,plt=plt)\n",
    "    plt.show()\n",
    "    # show the difference\n",
    "    x_diff = np.mean(np.linalg.norm(x-xbar,2,1))\n",
    "    u_diff = np.mean(np.linalg.norm(u[:N]-ubar[:N],2,1))\n",
    "    Q_diff = np.mean([np.linalg.norm(Q[i]-Qbar[i],'fro') for i in range(N+1)])\n",
    "    K_diff = np.mean([np.linalg.norm(K[i]-Kbar[i],'fro') for i in range(N)])\n",
    "    print(\"x {:8.6f} u {:8.6f} Q {:8.6f} K {:8.6f}\".format(x_diff,u_diff,Q_diff,K_diff))\n",
    "\n",
    "    # save trajectory\n",
    "    traj['x'] = x\n",
    "    traj['u'] = u\n",
    "    traj['Q'] = Q\n",
    "    traj['Y'] = Y\n",
    "    traj['K'] = K\n",
    "    traj['gamma'] = gamma\n",
    "    traj['Q_diff'] = Q_diff\n",
    "    traj['K_diff'] = K_diff\n",
    "    history.append(traj)\n",
    "    \n",
    "    total_iter = idx_iter+1\n",
    "    if Q_diff < tol_Q and K_diff < tol_K : \n",
    "        print(\"SUCCESS:converged\")\n",
    "        break\n",
    "    \n",
    "    # update trajectory\n",
    "    Qbar = Q\n",
    "    Kbar = K\n",
    "    Ybar = Y\n",
    "    xbar = x\n",
    "    ubar = u"
   ]
  },
  {
   "cell_type": "code",
   "execution_count": null,
   "metadata": {},
   "outputs": [],
   "source": [
    "# # show the difference\n",
    "# x_distance = [np.mean(np.linalg.norm(history[i]['x']-history[-1]['x'],2,1)) / \n",
    "#       np.mean(np.linalg.norm(history[-1]['x'],2,1))\n",
    "#       for i in range(max_iter-1)]\n",
    "# u_distance = [np.mean(np.linalg.norm(history[i]['u']-history[-1]['u'],2,1)) / \n",
    "#       np.mean(np.linalg.norm(history[-1]['u'],2,1))\n",
    "#       for i in range(max_iter-1)]\n",
    "# # K_diff = np.mean([np.linalg.norm(K[i]-Kbar[i],'fro') for i in range(N)])"
   ]
  },
  {
   "cell_type": "code",
   "execution_count": null,
   "metadata": {},
   "outputs": [],
   "source": [
    "# Q_last_norm = np.mean([np.linalg.norm(history[-1]['Q'][i],'fro') for i in range(N)])\n",
    "# Q_distance = np.array([np.mean([np.linalg.norm(history[j]['Q'][i]-history[-1]['Q'][i],'fro') for i in range(N)]) \n",
    "#           for j in range(max_iter-1)])/Q_last_norm\n",
    "# K_last_norm = np.mean([np.linalg.norm(history[-1]['K'][i],'fro') for i in range(N)])\n",
    "# K_distance = np.array([np.mean([np.linalg.norm(history[j]['K'][i]-history[-1]['K'][i],'fro') for i in range(N)]) \n",
    "#           for j in range(max_iter-1)])/K_last_norm\n"
   ]
  },
  {
   "cell_type": "code",
   "execution_count": null,
   "metadata": {
    "scrolled": false
   },
   "outputs": [],
   "source": [
    "# fS = 15\n",
    "# plt.figure(figsize=(12,10))\n",
    "# plt.subplot(221)\n",
    "# plt.plot([i+1 for i in range(max_iter-1)],x_distance,'o-')\n",
    "# plt.xlabel('iteration number',fontsize=fS)\n",
    "# plt.ylabel(r'$||x^i - x^*||_2 / ||x^*||_2$',fontsize=fS)\n",
    "# plt.yscale('log')\n",
    "# plt.subplot(222)\n",
    "# plt.plot([i+1 for i in range(max_iter-1)],u_distance,'o-')\n",
    "# plt.xlabel('iteration number',fontsize=fS)\n",
    "# plt.ylabel(r'$||u^i - u^*||_2/||u^*||_2$',fontsize=fS)\n",
    "# plt.yscale('log')\n",
    "# plt.subplot(223)\n",
    "# plt.plot([i+1 for i in range(max_iter-1)],Q_distance,'o-')\n",
    "# plt.xlabel('iteration number',fontsize=fS)\n",
    "# plt.ylabel(r'$||Q^i - Q^*||_F/||Q^*||_F$',fontsize=fS)\n",
    "# plt.yscale('log')\n",
    "# plt.subplot(224)\n",
    "# plt.plot([i+1 for i in range(max_iter-1)],K_distance,'o-')\n",
    "# plt.xlabel('iteration number',fontsize=fS)\n",
    "# plt.ylabel(r'$||K^i - K^*||_F/||K^*||_F$',fontsize=fS)\n",
    "# plt.yscale('log')"
   ]
  },
  {
   "cell_type": "code",
   "execution_count": null,
   "metadata": {},
   "outputs": [],
   "source": [
    "Q_diff_list = [history[i]['Q_diff'] for i in range(total_iter)]\n",
    "K_diff_list = [history[i]['K_diff'] for i in range(total_iter)]"
   ]
  },
  {
   "cell_type": "code",
   "execution_count": null,
   "metadata": {},
   "outputs": [],
   "source": [
    "i_index = np.array([i+1 for i in range(total_iter)])\n",
    "fS = 20\n",
    "plt.figure(figsize=(12,5))\n",
    "plt.subplot(121)\n",
    "plt.plot(i_index,Q_diff_list,'o-')\n",
    "plt.plot(i_index,i_index*0+tol_Q,'--')\n",
    "plt.xlabel('iteration number',fontsize=fS,fontname='Times New Roman')\n",
    "plt.ylabel(r'$\\Delta_Q$',fontsize=fS,fontname='Times New Roman')\n",
    "plt.yscale('log')\n",
    "# plt.xticks(i_index)\n",
    "# plt.legend(fontsize=fS)\n",
    "plt.subplot(122)\n",
    "plt.plot(i_index,K_diff_list,'o-')\n",
    "plt.plot(i_index,i_index*0+tol_K,'--',label=\"tolerance\")\n",
    "plt.xlabel('iteration number',fontsize=fS,fontname='Times New Roman')\n",
    "plt.ylabel(r'$\\Delta_K$',fontsize=fS,fontname='Times New Roman')\n",
    "plt.yscale('log')\n",
    "# plt.xticks(i_index)\n",
    "plt.rcParams[\"font.family\"] = \"Times New Roman\"\n",
    "plt.legend(fontsize=fS)\n",
    "\n",
    "# plt.savefig('/Users/keemtw/Documents/Study/Note/SCP_invariant_tube/convergence_result.pdf')"
   ]
  },
  {
   "cell_type": "markdown",
   "metadata": {},
   "source": [
    "# is it really.. invariant?"
   ]
  },
  {
   "cell_type": "code",
   "execution_count": null,
   "metadata": {},
   "outputs": [],
   "source": [
    "xbar = history[-1]['x']\n",
    "ubar = history[-1]['u']\n",
    "Qbar = history[-1]['Q']\n",
    "Ybar = history[-1]['Y']\n",
    "Kbar = history[-1]['K']"
   ]
  },
  {
   "cell_type": "code",
   "execution_count": null,
   "metadata": {},
   "outputs": [],
   "source": [
    "from utils_alg import forward_full_with_K,get_sample_trajectory\n",
    "import scipy\n",
    "\n",
    "x0_sample = []\n",
    "# x0_sample.append(xbar[0])\n",
    "num_sample = 100\n",
    "idx = 0\n",
    "for i in range(num_sample) :\n",
    "    z = np.random.randn(ix)\n",
    "    z = z / np.linalg.norm(z)\n",
    "    x_s = xbar[idx] + scipy.linalg.sqrtm(Qbar[idx])@z\n",
    "    x0_sample.append(x_s)\n",
    "    \n",
    "\n"
   ]
  },
  {
   "cell_type": "code",
   "execution_count": null,
   "metadata": {
    "scrolled": true
   },
   "outputs": [],
   "source": [
    "# xsam,usam = forward_full_with_K(x0_sample[98],x,u,K,myModel,N,ix,iu,delT)\n",
    "tsam,xsam,usam = get_sample_trajectory(xi,x0_sample,xbar,ubar,Qbar,Ybar,myModel,N,ix,iu,iw,delT,flag_noise=True)"
   ]
  },
  {
   "cell_type": "code",
   "execution_count": null,
   "metadata": {},
   "outputs": [],
   "source": [
    "fS = 15\n",
    "plt.figure(0,figsize=(7,7))\n",
    "plot_traj_set(xbar,ubar,c_list,H_list,Qbar,xi=xi,xf=xf,xi_margin=xi_margin,Qf=Qf,plt=plt)\n",
    "# plt.plot(1e3,1e3,'-',color='tab:purple',label='trajectory samples')\n",
    "plt.legend(fontsize=fS)\n",
    "plt.rcParams[\"font.family\"] = \"Times New Roman\""
   ]
  },
  {
   "cell_type": "code",
   "execution_count": null,
   "metadata": {},
   "outputs": [],
   "source": [
    "fS = 15\n",
    "plt.figure(0,figsize=(7,7))\n",
    "for xsam_e in xsam :\n",
    "    plt.plot(xsam_e[:,0], xsam_e[:,1],'-',markersize=4.0, linewidth=1.0,alpha=0.4,color='tab:purple')\n",
    "plot_traj_set(xbar,ubar,c_list,H_list,Qbar,xi=xi,xf=xf,xi_margin=xi_margin,Qf=Qf,plt=plt,flag_label=True)\n",
    "plt.plot(1e3,1e3,'-',color='tab:purple',label='samples')\n",
    "plt.legend(fontsize=fS)\n",
    "# plt.grid(False)\n",
    "plt.rcParams[\"font.family\"] = \"Times New Roman\"\n",
    "# plt.savefig('/Users/keemtw/Documents/Study/Note/SCP_invariant_tube/traj_result.pdf')"
   ]
  },
  {
   "cell_type": "code",
   "execution_count": null,
   "metadata": {},
   "outputs": [],
   "source": [
    "fS = 20\n",
    "plt.figure(0,figsize=(10,5))\n",
    "alpha = 0.5\n",
    "t_index = np.array(range(N+1))*delT\n",
    "for i in range(num_sample) :\n",
    "    tsam_e = tsam[i]\n",
    "    xsam_e = xsam[i]\n",
    "    usam_e = usam[i]\n",
    "#     plot_state_input(tsam_e,xsam_e,usam_e,None,None,N,delT,alpha,plt,flag_step=False)\n",
    "\n",
    "    plt.subplot(121)\n",
    "    plt.plot(tsam_e, usam_e[:,0],color='tab:purple',alpha=alpha,linewidth=1.0)\n",
    "    plt.subplot(122)\n",
    "    plt.plot(tsam_e, usam_e[:,1],color='tab:purple',alpha=alpha,linewidth=1.0)\n",
    "plt.subplot(121)\n",
    "plt.plot(tsam_e, usam_e[:,0]*0+myConst.vmax,'-.',color='tab:red',alpha=1.0,linewidth=2.0,label='limit')\n",
    "plt.step(t_index, [*ubar[:N,0],ubar[N-1,0]],'--',color='tab:orange',alpha=1.0,where='post',linewidth=2.0,label='nominal')\n",
    "plt.plot(1e3, 1e3,'-',color='tab:purple',alpha=1.0,linewidth=1.0,label='samples')\n",
    "plt.xlabel('time (s)', fontsize = fS)\n",
    "plt.ylabel('v (m/s)', fontsize = fS)\n",
    "plt.axis([0.0, tf, 0.5, 4.2])\n",
    "plt.subplot(122)\n",
    "plt.plot(tsam_e, usam_e[:,1]*0+myConst.wmax,'-.',color='tab:red',alpha=1.0,linewidth=2.0)\n",
    "plt.plot(tsam_e, usam_e[:,1]*0+myConst.wmin,'-.',color='tab:red',alpha=1.0,linewidth=2.0,label='limit')\n",
    "plt.step(t_index, [*ubar[:N,1],ubar[N-1,1]],'--',color='tab:orange',alpha=1.0,where='post',linewidth=2.0,label='nominal')\n",
    "plt.plot(1e3, 1e3,'-',color='tab:purple',alpha=1.0,linewidth=1.0,label='samples')\n",
    "plt.xlabel('time (s)', fontsize = fS)\n",
    "plt.ylabel('w (rad/s)', fontsize = fS)\n",
    "plt.axis([0.0, tf, -2.2, 2.2])\n",
    "plt.legend(fontsize=fS)\n",
    "plt.rcParams[\"font.family\"] = \"Times New Roman\"\n",
    "# plt.savefig('/Users/keemtw/Documents/Study/Note/SCP_invariant_tube/input_result.pdf')"
   ]
  },
  {
   "cell_type": "code",
   "execution_count": null,
   "metadata": {},
   "outputs": [],
   "source": [
    "t_index = np.array(range(N+1))*delT"
   ]
  },
  {
   "cell_type": "code",
   "execution_count": null,
   "metadata": {},
   "outputs": [],
   "source": [
    "fS = 15\n",
    "plt.figure(0,figsize=(10,15))\n",
    "alpha = 0.2\n",
    "for i in range(num_sample) :\n",
    "    tsam_e = tsam[i]\n",
    "    xsam_e = xsam[i]\n",
    "    usam_e = usam[i]\n",
    "    plot_state_input(tsam_e,xsam_e,usam_e,None,None,N,delT,alpha,plt,flag_step=False)\n"
   ]
  },
  {
   "cell_type": "code",
   "execution_count": null,
   "metadata": {},
   "outputs": [],
   "source": []
  }
 ],
 "metadata": {
  "kernelspec": {
   "display_name": "Python 3",
   "language": "python",
   "name": "python3"
  },
  "language_info": {
   "codemirror_mode": {
    "name": "ipython",
    "version": 3
   },
   "file_extension": ".py",
   "mimetype": "text/x-python",
   "name": "python",
   "nbconvert_exporter": "python",
   "pygments_lexer": "ipython3",
   "version": "3.8.13"
  }
 },
 "nbformat": 4,
 "nbformat_minor": 5
}
